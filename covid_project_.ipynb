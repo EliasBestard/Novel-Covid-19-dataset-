{
  "nbformat": 4,
  "nbformat_minor": 0,
  "metadata": {
    "colab": {
      "name": "covid_project .ipynb",
      "provenance": [],
      "collapsed_sections": [
        "C20ZQXxWRbNr",
        "b7srI-ahTqTm",
        "t88pW4-yVQ9H",
        "2DlliigRYSyD",
        "4yqqTddcb5jY",
        "SD39e-oHb5mW",
        "4XK8UHadb5g2",
        "orVmuqKBb5eI",
        "sa46ZRlxb5bN",
        "89PnCQ1Kb5Xj",
        "I959Esu31XHH",
        "ykKu9hPB2PEe",
        "VJ7lxeX_2NyM",
        "ygtfewg73K4n",
        "WRkkQGqe399s"
      ],
      "include_colab_link": true
    },
    "kernelspec": {
      "name": "python3",
      "display_name": "Python 3"
    }
  },
  "cells": [
    {
      "cell_type": "markdown",
      "metadata": {
        "id": "view-in-github",
        "colab_type": "text"
      },
      "source": [
        "<a href=\"https://colab.research.google.com/github/EliasBestard/Novel-Covid-19-dataset-/blob/main/covid_project_.ipynb\" target=\"_parent\"><img src=\"https://colab.research.google.com/assets/colab-badge.svg\" alt=\"Open In Colab\"/></a>"
      ]
    },
    {
      "cell_type": "markdown",
      "metadata": {
        "id": "C20ZQXxWRbNr"
      },
      "source": [
        "# Dependencies\n"
      ]
    },
    {
      "cell_type": "code",
      "metadata": {
        "colab": {
          "base_uri": "https://localhost:8080/"
        },
        "id": "zRlX1gt9RTdo",
        "outputId": "8d5a34d3-1d0e-40c9-d3ca-df14f89ee64f"
      },
      "source": [
        "!pip install leven\n",
        "!pip install --upgrade mlxtend\n",
        "import matplotlib.pyplot as plt\n",
        "from mlxtend.preprocessing import TransactionEncoder\n",
        "from mlxtend.frequent_patterns import fpgrowth\n",
        "from mlxtend.frequent_patterns import association_rules\n",
        "\n",
        "import pandas as pd\n",
        "import numpy as np\n",
        "import seaborn as sns\n",
        "import copy\n",
        "\n",
        "import nltk\n",
        "import re\n",
        "import string\n",
        "from sklearn.cluster import dbscan\n",
        "\n",
        "from sklearn import preprocessing\n",
        "from sklearn.model_selection import train_test_split\n",
        "from sklearn.metrics import classification_report, confusion_matrix\n",
        "from sklearn.model_selection import cross_val_score\n",
        "from sklearn.neighbors import KNeighborsClassifier\n",
        "from sklearn.tree import DecisionTreeClassifier\n",
        "from sklearn.neural_network import MLPClassifier\n",
        "from sklearn.datasets import make_classification\n",
        "import datetime\n",
        "\n",
        "from leven import levenshtein  \n",
        "\n",
        "#change to the path where the dataset is\n",
        "# df =  pd.read_csv(\"path_of_dataset\")\n",
        "df =  pd.read_csv(\"/content/drive/MyDrive/Colab Notebooks/latestdata.csv\")\n",
        "df.head()"
      ],
      "execution_count": null,
      "outputs": [
        {
          "output_type": "stream",
          "text": [
            "Collecting leven\n",
            "  Downloading https://files.pythonhosted.org/packages/73/02/37084115516cfd595ee2f9a873fffe8b85c6b1538523ff6a8b8dd7ff7d46/leven-1.0.4.tar.gz\n",
            "Requirement already satisfied: six in /usr/local/lib/python3.6/dist-packages (from leven) (1.15.0)\n",
            "Collecting nose\n",
            "\u001b[?25l  Downloading https://files.pythonhosted.org/packages/15/d8/dd071918c040f50fa1cf80da16423af51ff8ce4a0f2399b7bf8de45ac3d9/nose-1.3.7-py3-none-any.whl (154kB)\n",
            "\u001b[K     |████████████████████████████████| 163kB 5.8MB/s \n",
            "\u001b[?25hBuilding wheels for collected packages: leven\n",
            "  Building wheel for leven (setup.py) ... \u001b[?25l\u001b[?25hdone\n",
            "  Created wheel for leven: filename=leven-1.0.4-cp36-cp36m-linux_x86_64.whl size=54677 sha256=e3374f21f855c80330c88abf505496470f47b0ec0fe7bc6b19599d0be84b9dbc\n",
            "  Stored in directory: /root/.cache/pip/wheels/54/64/a5/439db671d666a50f3b3cebd2dcab3fbbab02785adf58e47552\n",
            "Successfully built leven\n",
            "Installing collected packages: nose, leven\n",
            "Successfully installed leven-1.0.4 nose-1.3.7\n",
            "Collecting mlxtend\n",
            "\u001b[?25l  Downloading https://files.pythonhosted.org/packages/86/30/781c0b962a70848db83339567ecab656638c62f05adb064cb33c0ae49244/mlxtend-0.18.0-py2.py3-none-any.whl (1.3MB)\n",
            "\u001b[K     |████████████████████████████████| 1.4MB 5.3MB/s \n",
            "\u001b[?25hRequirement already satisfied, skipping upgrade: joblib>=0.13.2 in /usr/local/lib/python3.6/dist-packages (from mlxtend) (1.0.0)\n",
            "Requirement already satisfied, skipping upgrade: numpy>=1.16.2 in /usr/local/lib/python3.6/dist-packages (from mlxtend) (1.19.4)\n",
            "Requirement already satisfied, skipping upgrade: pandas>=0.24.2 in /usr/local/lib/python3.6/dist-packages (from mlxtend) (1.1.5)\n",
            "Requirement already satisfied, skipping upgrade: scipy>=1.2.1 in /usr/local/lib/python3.6/dist-packages (from mlxtend) (1.4.1)\n",
            "Requirement already satisfied, skipping upgrade: setuptools in /usr/local/lib/python3.6/dist-packages (from mlxtend) (51.0.0)\n",
            "Requirement already satisfied, skipping upgrade: matplotlib>=3.0.0 in /usr/local/lib/python3.6/dist-packages (from mlxtend) (3.2.2)\n",
            "Requirement already satisfied, skipping upgrade: scikit-learn>=0.20.3 in /usr/local/lib/python3.6/dist-packages (from mlxtend) (0.22.2.post1)\n",
            "Requirement already satisfied, skipping upgrade: python-dateutil>=2.7.3 in /usr/local/lib/python3.6/dist-packages (from pandas>=0.24.2->mlxtend) (2.8.1)\n",
            "Requirement already satisfied, skipping upgrade: pytz>=2017.2 in /usr/local/lib/python3.6/dist-packages (from pandas>=0.24.2->mlxtend) (2018.9)\n",
            "Requirement already satisfied, skipping upgrade: cycler>=0.10 in /usr/local/lib/python3.6/dist-packages (from matplotlib>=3.0.0->mlxtend) (0.10.0)\n",
            "Requirement already satisfied, skipping upgrade: pyparsing!=2.0.4,!=2.1.2,!=2.1.6,>=2.0.1 in /usr/local/lib/python3.6/dist-packages (from matplotlib>=3.0.0->mlxtend) (2.4.7)\n",
            "Requirement already satisfied, skipping upgrade: kiwisolver>=1.0.1 in /usr/local/lib/python3.6/dist-packages (from matplotlib>=3.0.0->mlxtend) (1.3.1)\n",
            "Requirement already satisfied, skipping upgrade: six>=1.5 in /usr/local/lib/python3.6/dist-packages (from python-dateutil>=2.7.3->pandas>=0.24.2->mlxtend) (1.15.0)\n",
            "Installing collected packages: mlxtend\n",
            "  Found existing installation: mlxtend 0.14.0\n",
            "    Uninstalling mlxtend-0.14.0:\n",
            "      Successfully uninstalled mlxtend-0.14.0\n",
            "Successfully installed mlxtend-0.18.0\n"
          ],
          "name": "stdout"
        },
        {
          "output_type": "stream",
          "text": [
            "/usr/local/lib/python3.6/dist-packages/IPython/core/interactiveshell.py:2718: DtypeWarning: Columns (1,2,9,10,12,13,14,15,16,17,19,20,21,22,23,24,25,26,27,31,32) have mixed types.Specify dtype option on import or set low_memory=False.\n",
            "  interactivity=interactivity, compiler=compiler, result=result)\n"
          ],
          "name": "stderr"
        },
        {
          "output_type": "execute_result",
          "data": {
            "text/html": [
              "<div>\n",
              "<style scoped>\n",
              "    .dataframe tbody tr th:only-of-type {\n",
              "        vertical-align: middle;\n",
              "    }\n",
              "\n",
              "    .dataframe tbody tr th {\n",
              "        vertical-align: top;\n",
              "    }\n",
              "\n",
              "    .dataframe thead th {\n",
              "        text-align: right;\n",
              "    }\n",
              "</style>\n",
              "<table border=\"1\" class=\"dataframe\">\n",
              "  <thead>\n",
              "    <tr style=\"text-align: right;\">\n",
              "      <th></th>\n",
              "      <th>ID</th>\n",
              "      <th>age</th>\n",
              "      <th>sex</th>\n",
              "      <th>city</th>\n",
              "      <th>province</th>\n",
              "      <th>country</th>\n",
              "      <th>latitude</th>\n",
              "      <th>longitude</th>\n",
              "      <th>geo_resolution</th>\n",
              "      <th>date_onset_symptoms</th>\n",
              "      <th>date_admission_hospital</th>\n",
              "      <th>date_confirmation</th>\n",
              "      <th>symptoms</th>\n",
              "      <th>lives_in_Wuhan</th>\n",
              "      <th>travel_history_dates</th>\n",
              "      <th>travel_history_location</th>\n",
              "      <th>reported_market_exposure</th>\n",
              "      <th>additional_information</th>\n",
              "      <th>chronic_disease_binary</th>\n",
              "      <th>chronic_disease</th>\n",
              "      <th>source</th>\n",
              "      <th>sequence_available</th>\n",
              "      <th>outcome</th>\n",
              "      <th>date_death_or_discharge</th>\n",
              "      <th>notes_for_discussion</th>\n",
              "      <th>location</th>\n",
              "      <th>admin3</th>\n",
              "      <th>admin2</th>\n",
              "      <th>admin1</th>\n",
              "      <th>country_new</th>\n",
              "      <th>admin_id</th>\n",
              "      <th>data_moderator_initials</th>\n",
              "      <th>travel_history_binary</th>\n",
              "    </tr>\n",
              "  </thead>\n",
              "  <tbody>\n",
              "    <tr>\n",
              "      <th>0</th>\n",
              "      <td>000-1-1</td>\n",
              "      <td>NaN</td>\n",
              "      <td>male</td>\n",
              "      <td>Shek Lei</td>\n",
              "      <td>Hong Kong</td>\n",
              "      <td>China</td>\n",
              "      <td>22.365019</td>\n",
              "      <td>114.133808</td>\n",
              "      <td>point</td>\n",
              "      <td>NaN</td>\n",
              "      <td>NaN</td>\n",
              "      <td>14.02.2020</td>\n",
              "      <td>NaN</td>\n",
              "      <td>NaN</td>\n",
              "      <td>22.01.2020</td>\n",
              "      <td>China</td>\n",
              "      <td>NaN</td>\n",
              "      <td>Case 55; mainland China travel via the Lok Ma ...</td>\n",
              "      <td>False</td>\n",
              "      <td>NaN</td>\n",
              "      <td>https://www.scmp.com/news/hong-kong/health-env...</td>\n",
              "      <td>NaN</td>\n",
              "      <td>critical condition, intubated as of 14.02.2020</td>\n",
              "      <td>NaN</td>\n",
              "      <td>NaN</td>\n",
              "      <td>Shek Lei</td>\n",
              "      <td>NaN</td>\n",
              "      <td>NaN</td>\n",
              "      <td>Hong Kong</td>\n",
              "      <td>China</td>\n",
              "      <td>8029.0</td>\n",
              "      <td>NaN</td>\n",
              "      <td>NaN</td>\n",
              "    </tr>\n",
              "    <tr>\n",
              "      <th>1</th>\n",
              "      <td>000-1-10</td>\n",
              "      <td>78</td>\n",
              "      <td>male</td>\n",
              "      <td>Vo Euganeo</td>\n",
              "      <td>Veneto</td>\n",
              "      <td>Italy</td>\n",
              "      <td>45.297748</td>\n",
              "      <td>11.658382</td>\n",
              "      <td>point</td>\n",
              "      <td>NaN</td>\n",
              "      <td>NaN</td>\n",
              "      <td>21.02.2020</td>\n",
              "      <td>NaN</td>\n",
              "      <td>NaN</td>\n",
              "      <td>NaN</td>\n",
              "      <td>NaN</td>\n",
              "      <td>NaN</td>\n",
              "      <td>Hospitalized on 12.02.2020 for other reasons</td>\n",
              "      <td>False</td>\n",
              "      <td>NaN</td>\n",
              "      <td>https://www.corriere.it/cronache/20_febbraio_2...</td>\n",
              "      <td>NaN</td>\n",
              "      <td>death</td>\n",
              "      <td>22.02.2020</td>\n",
              "      <td>NaN</td>\n",
              "      <td>Vo' Euganeo</td>\n",
              "      <td>NaN</td>\n",
              "      <td>NaN</td>\n",
              "      <td>Veneto</td>\n",
              "      <td>Italy</td>\n",
              "      <td>8954.0</td>\n",
              "      <td>NaN</td>\n",
              "      <td>NaN</td>\n",
              "    </tr>\n",
              "    <tr>\n",
              "      <th>2</th>\n",
              "      <td>000-1-100</td>\n",
              "      <td>61</td>\n",
              "      <td>female</td>\n",
              "      <td>NaN</td>\n",
              "      <td>NaN</td>\n",
              "      <td>Singapore</td>\n",
              "      <td>1.353460</td>\n",
              "      <td>103.815100</td>\n",
              "      <td>admin0</td>\n",
              "      <td>NaN</td>\n",
              "      <td>NaN</td>\n",
              "      <td>14.02.2020</td>\n",
              "      <td>NaN</td>\n",
              "      <td>NaN</td>\n",
              "      <td>NaN</td>\n",
              "      <td>NaN</td>\n",
              "      <td>NaN</td>\n",
              "      <td>Case 65; family member of Case 50, a DBS emplo...</td>\n",
              "      <td>False</td>\n",
              "      <td>NaN</td>\n",
              "      <td>https://www.channelnewsasia.com/news/singapore...</td>\n",
              "      <td>NaN</td>\n",
              "      <td>discharge</td>\n",
              "      <td>17.02.2020</td>\n",
              "      <td>NaN</td>\n",
              "      <td>NaN</td>\n",
              "      <td>NaN</td>\n",
              "      <td>NaN</td>\n",
              "      <td>NaN</td>\n",
              "      <td>Singapore</td>\n",
              "      <td>200.0</td>\n",
              "      <td>NaN</td>\n",
              "      <td>NaN</td>\n",
              "    </tr>\n",
              "    <tr>\n",
              "      <th>3</th>\n",
              "      <td>000-1-1000</td>\n",
              "      <td>NaN</td>\n",
              "      <td>NaN</td>\n",
              "      <td>Zhengzhou City</td>\n",
              "      <td>Henan</td>\n",
              "      <td>China</td>\n",
              "      <td>34.629310</td>\n",
              "      <td>113.468000</td>\n",
              "      <td>admin2</td>\n",
              "      <td>NaN</td>\n",
              "      <td>NaN</td>\n",
              "      <td>26.01.2020</td>\n",
              "      <td>NaN</td>\n",
              "      <td>NaN</td>\n",
              "      <td>NaN</td>\n",
              "      <td>NaN</td>\n",
              "      <td>NaN</td>\n",
              "      <td>NaN</td>\n",
              "      <td>False</td>\n",
              "      <td>NaN</td>\n",
              "      <td>https://news.163.com/special/epidemic/?spssid=...</td>\n",
              "      <td>NaN</td>\n",
              "      <td>NaN</td>\n",
              "      <td>NaN</td>\n",
              "      <td>NaN</td>\n",
              "      <td>NaN</td>\n",
              "      <td>NaN</td>\n",
              "      <td>Zhengzhou City</td>\n",
              "      <td>Henan</td>\n",
              "      <td>China</td>\n",
              "      <td>10091.0</td>\n",
              "      <td>NaN</td>\n",
              "      <td>NaN</td>\n",
              "    </tr>\n",
              "    <tr>\n",
              "      <th>4</th>\n",
              "      <td>000-1-10000</td>\n",
              "      <td>NaN</td>\n",
              "      <td>NaN</td>\n",
              "      <td>Pingxiang City</td>\n",
              "      <td>Jiangxi</td>\n",
              "      <td>China</td>\n",
              "      <td>27.513560</td>\n",
              "      <td>113.902900</td>\n",
              "      <td>admin2</td>\n",
              "      <td>NaN</td>\n",
              "      <td>NaN</td>\n",
              "      <td>14.02.2020</td>\n",
              "      <td>NaN</td>\n",
              "      <td>NaN</td>\n",
              "      <td>NaN</td>\n",
              "      <td>NaN</td>\n",
              "      <td>NaN</td>\n",
              "      <td>NaN</td>\n",
              "      <td>False</td>\n",
              "      <td>NaN</td>\n",
              "      <td>http://hc.jiangxi.gov.cn/doc/2020/02/15/138898...</td>\n",
              "      <td>NaN</td>\n",
              "      <td>NaN</td>\n",
              "      <td>NaN</td>\n",
              "      <td>NaN</td>\n",
              "      <td>NaN</td>\n",
              "      <td>NaN</td>\n",
              "      <td>Pingxiang City</td>\n",
              "      <td>Jiangxi</td>\n",
              "      <td>China</td>\n",
              "      <td>7060.0</td>\n",
              "      <td>NaN</td>\n",
              "      <td>NaN</td>\n",
              "    </tr>\n",
              "  </tbody>\n",
              "</table>\n",
              "</div>"
            ],
            "text/plain": [
              "            ID  age  ... data_moderator_initials travel_history_binary\n",
              "0      000-1-1  NaN  ...                     NaN                   NaN\n",
              "1     000-1-10   78  ...                     NaN                   NaN\n",
              "2    000-1-100   61  ...                     NaN                   NaN\n",
              "3   000-1-1000  NaN  ...                     NaN                   NaN\n",
              "4  000-1-10000  NaN  ...                     NaN                   NaN\n",
              "\n",
              "[5 rows x 33 columns]"
            ]
          },
          "metadata": {
            "tags": []
          },
          "execution_count": 1
        }
      ]
    },
    {
      "cell_type": "markdown",
      "metadata": {
        "id": "0fTzkRpCRfWZ"
      },
      "source": [
        "# Exploratory Analysis\n"
      ]
    },
    {
      "cell_type": "markdown",
      "metadata": {
        "id": "e3HqI0Q5TRVb"
      },
      "source": [
        "> ## Visualice missing values and features\n",
        "\n",
        "\n",
        "\n",
        "\n",
        "\n",
        "\n",
        "\n"
      ]
    },
    {
      "cell_type": "code",
      "metadata": {
        "id": "Df4ZN03YRl1N",
        "colab": {
          "base_uri": "https://localhost:8080/",
          "height": 383
        },
        "outputId": "3d463a2b-e84f-4ac0-e3dc-3562add3b687"
      },
      "source": [
        "df.head()"
      ],
      "execution_count": null,
      "outputs": [
        {
          "output_type": "execute_result",
          "data": {
            "text/html": [
              "<div>\n",
              "<style scoped>\n",
              "    .dataframe tbody tr th:only-of-type {\n",
              "        vertical-align: middle;\n",
              "    }\n",
              "\n",
              "    .dataframe tbody tr th {\n",
              "        vertical-align: top;\n",
              "    }\n",
              "\n",
              "    .dataframe thead th {\n",
              "        text-align: right;\n",
              "    }\n",
              "</style>\n",
              "<table border=\"1\" class=\"dataframe\">\n",
              "  <thead>\n",
              "    <tr style=\"text-align: right;\">\n",
              "      <th></th>\n",
              "      <th>ID</th>\n",
              "      <th>age</th>\n",
              "      <th>sex</th>\n",
              "      <th>city</th>\n",
              "      <th>province</th>\n",
              "      <th>country</th>\n",
              "      <th>latitude</th>\n",
              "      <th>longitude</th>\n",
              "      <th>geo_resolution</th>\n",
              "      <th>date_onset_symptoms</th>\n",
              "      <th>date_admission_hospital</th>\n",
              "      <th>date_confirmation</th>\n",
              "      <th>symptoms</th>\n",
              "      <th>lives_in_Wuhan</th>\n",
              "      <th>travel_history_dates</th>\n",
              "      <th>travel_history_location</th>\n",
              "      <th>reported_market_exposure</th>\n",
              "      <th>additional_information</th>\n",
              "      <th>chronic_disease_binary</th>\n",
              "      <th>chronic_disease</th>\n",
              "      <th>source</th>\n",
              "      <th>sequence_available</th>\n",
              "      <th>outcome</th>\n",
              "      <th>date_death_or_discharge</th>\n",
              "      <th>notes_for_discussion</th>\n",
              "      <th>location</th>\n",
              "      <th>admin3</th>\n",
              "      <th>admin2</th>\n",
              "      <th>admin1</th>\n",
              "      <th>country_new</th>\n",
              "      <th>admin_id</th>\n",
              "      <th>data_moderator_initials</th>\n",
              "      <th>travel_history_binary</th>\n",
              "    </tr>\n",
              "  </thead>\n",
              "  <tbody>\n",
              "    <tr>\n",
              "      <th>0</th>\n",
              "      <td>000-1-1</td>\n",
              "      <td>NaN</td>\n",
              "      <td>male</td>\n",
              "      <td>Shek Lei</td>\n",
              "      <td>Hong Kong</td>\n",
              "      <td>China</td>\n",
              "      <td>22.365019</td>\n",
              "      <td>114.133808</td>\n",
              "      <td>point</td>\n",
              "      <td>NaN</td>\n",
              "      <td>NaN</td>\n",
              "      <td>14.02.2020</td>\n",
              "      <td>NaN</td>\n",
              "      <td>NaN</td>\n",
              "      <td>22.01.2020</td>\n",
              "      <td>China</td>\n",
              "      <td>NaN</td>\n",
              "      <td>Case 55; mainland China travel via the Lok Ma ...</td>\n",
              "      <td>False</td>\n",
              "      <td>NaN</td>\n",
              "      <td>https://www.scmp.com/news/hong-kong/health-env...</td>\n",
              "      <td>NaN</td>\n",
              "      <td>critical condition, intubated as of 14.02.2020</td>\n",
              "      <td>NaN</td>\n",
              "      <td>NaN</td>\n",
              "      <td>Shek Lei</td>\n",
              "      <td>NaN</td>\n",
              "      <td>NaN</td>\n",
              "      <td>Hong Kong</td>\n",
              "      <td>China</td>\n",
              "      <td>8029.0</td>\n",
              "      <td>NaN</td>\n",
              "      <td>NaN</td>\n",
              "    </tr>\n",
              "    <tr>\n",
              "      <th>1</th>\n",
              "      <td>000-1-10</td>\n",
              "      <td>78</td>\n",
              "      <td>male</td>\n",
              "      <td>Vo Euganeo</td>\n",
              "      <td>Veneto</td>\n",
              "      <td>Italy</td>\n",
              "      <td>45.297748</td>\n",
              "      <td>11.658382</td>\n",
              "      <td>point</td>\n",
              "      <td>NaN</td>\n",
              "      <td>NaN</td>\n",
              "      <td>21.02.2020</td>\n",
              "      <td>NaN</td>\n",
              "      <td>NaN</td>\n",
              "      <td>NaN</td>\n",
              "      <td>NaN</td>\n",
              "      <td>NaN</td>\n",
              "      <td>Hospitalized on 12.02.2020 for other reasons</td>\n",
              "      <td>False</td>\n",
              "      <td>NaN</td>\n",
              "      <td>https://www.corriere.it/cronache/20_febbraio_2...</td>\n",
              "      <td>NaN</td>\n",
              "      <td>death</td>\n",
              "      <td>22.02.2020</td>\n",
              "      <td>NaN</td>\n",
              "      <td>Vo' Euganeo</td>\n",
              "      <td>NaN</td>\n",
              "      <td>NaN</td>\n",
              "      <td>Veneto</td>\n",
              "      <td>Italy</td>\n",
              "      <td>8954.0</td>\n",
              "      <td>NaN</td>\n",
              "      <td>NaN</td>\n",
              "    </tr>\n",
              "    <tr>\n",
              "      <th>2</th>\n",
              "      <td>000-1-100</td>\n",
              "      <td>61</td>\n",
              "      <td>female</td>\n",
              "      <td>NaN</td>\n",
              "      <td>NaN</td>\n",
              "      <td>Singapore</td>\n",
              "      <td>1.353460</td>\n",
              "      <td>103.815100</td>\n",
              "      <td>admin0</td>\n",
              "      <td>NaN</td>\n",
              "      <td>NaN</td>\n",
              "      <td>14.02.2020</td>\n",
              "      <td>NaN</td>\n",
              "      <td>NaN</td>\n",
              "      <td>NaN</td>\n",
              "      <td>NaN</td>\n",
              "      <td>NaN</td>\n",
              "      <td>Case 65; family member of Case 50, a DBS emplo...</td>\n",
              "      <td>False</td>\n",
              "      <td>NaN</td>\n",
              "      <td>https://www.channelnewsasia.com/news/singapore...</td>\n",
              "      <td>NaN</td>\n",
              "      <td>discharge</td>\n",
              "      <td>17.02.2020</td>\n",
              "      <td>NaN</td>\n",
              "      <td>NaN</td>\n",
              "      <td>NaN</td>\n",
              "      <td>NaN</td>\n",
              "      <td>NaN</td>\n",
              "      <td>Singapore</td>\n",
              "      <td>200.0</td>\n",
              "      <td>NaN</td>\n",
              "      <td>NaN</td>\n",
              "    </tr>\n",
              "    <tr>\n",
              "      <th>3</th>\n",
              "      <td>000-1-1000</td>\n",
              "      <td>NaN</td>\n",
              "      <td>NaN</td>\n",
              "      <td>Zhengzhou City</td>\n",
              "      <td>Henan</td>\n",
              "      <td>China</td>\n",
              "      <td>34.629310</td>\n",
              "      <td>113.468000</td>\n",
              "      <td>admin2</td>\n",
              "      <td>NaN</td>\n",
              "      <td>NaN</td>\n",
              "      <td>26.01.2020</td>\n",
              "      <td>NaN</td>\n",
              "      <td>NaN</td>\n",
              "      <td>NaN</td>\n",
              "      <td>NaN</td>\n",
              "      <td>NaN</td>\n",
              "      <td>NaN</td>\n",
              "      <td>False</td>\n",
              "      <td>NaN</td>\n",
              "      <td>https://news.163.com/special/epidemic/?spssid=...</td>\n",
              "      <td>NaN</td>\n",
              "      <td>NaN</td>\n",
              "      <td>NaN</td>\n",
              "      <td>NaN</td>\n",
              "      <td>NaN</td>\n",
              "      <td>NaN</td>\n",
              "      <td>Zhengzhou City</td>\n",
              "      <td>Henan</td>\n",
              "      <td>China</td>\n",
              "      <td>10091.0</td>\n",
              "      <td>NaN</td>\n",
              "      <td>NaN</td>\n",
              "    </tr>\n",
              "    <tr>\n",
              "      <th>4</th>\n",
              "      <td>000-1-10000</td>\n",
              "      <td>NaN</td>\n",
              "      <td>NaN</td>\n",
              "      <td>Pingxiang City</td>\n",
              "      <td>Jiangxi</td>\n",
              "      <td>China</td>\n",
              "      <td>27.513560</td>\n",
              "      <td>113.902900</td>\n",
              "      <td>admin2</td>\n",
              "      <td>NaN</td>\n",
              "      <td>NaN</td>\n",
              "      <td>14.02.2020</td>\n",
              "      <td>NaN</td>\n",
              "      <td>NaN</td>\n",
              "      <td>NaN</td>\n",
              "      <td>NaN</td>\n",
              "      <td>NaN</td>\n",
              "      <td>NaN</td>\n",
              "      <td>False</td>\n",
              "      <td>NaN</td>\n",
              "      <td>http://hc.jiangxi.gov.cn/doc/2020/02/15/138898...</td>\n",
              "      <td>NaN</td>\n",
              "      <td>NaN</td>\n",
              "      <td>NaN</td>\n",
              "      <td>NaN</td>\n",
              "      <td>NaN</td>\n",
              "      <td>NaN</td>\n",
              "      <td>Pingxiang City</td>\n",
              "      <td>Jiangxi</td>\n",
              "      <td>China</td>\n",
              "      <td>7060.0</td>\n",
              "      <td>NaN</td>\n",
              "      <td>NaN</td>\n",
              "    </tr>\n",
              "  </tbody>\n",
              "</table>\n",
              "</div>"
            ],
            "text/plain": [
              "            ID  age  ... data_moderator_initials travel_history_binary\n",
              "0      000-1-1  NaN  ...                     NaN                   NaN\n",
              "1     000-1-10   78  ...                     NaN                   NaN\n",
              "2    000-1-100   61  ...                     NaN                   NaN\n",
              "3   000-1-1000  NaN  ...                     NaN                   NaN\n",
              "4  000-1-10000  NaN  ...                     NaN                   NaN\n",
              "\n",
              "[5 rows x 33 columns]"
            ]
          },
          "metadata": {
            "tags": []
          },
          "execution_count": 2
        }
      ]
    },
    {
      "cell_type": "code",
      "metadata": {
        "id": "ZMjPXr28R9g9",
        "colab": {
          "base_uri": "https://localhost:8080/"
        },
        "outputId": "40071a12-d576-4c36-f20a-a57a812a6f6d"
      },
      "source": [
        "df.info()"
      ],
      "execution_count": null,
      "outputs": [
        {
          "output_type": "stream",
          "text": [
            "<class 'pandas.core.frame.DataFrame'>\n",
            "RangeIndex: 2676311 entries, 0 to 2676310\n",
            "Data columns (total 33 columns):\n",
            " #   Column                    Dtype  \n",
            "---  ------                    -----  \n",
            " 0   ID                        object \n",
            " 1   age                       object \n",
            " 2   sex                       object \n",
            " 3   city                      object \n",
            " 4   province                  object \n",
            " 5   country                   object \n",
            " 6   latitude                  float64\n",
            " 7   longitude                 float64\n",
            " 8   geo_resolution            object \n",
            " 9   date_onset_symptoms       object \n",
            " 10  date_admission_hospital   object \n",
            " 11  date_confirmation         object \n",
            " 12  symptoms                  object \n",
            " 13  lives_in_Wuhan            object \n",
            " 14  travel_history_dates      object \n",
            " 15  travel_history_location   object \n",
            " 16  reported_market_exposure  object \n",
            " 17  additional_information    object \n",
            " 18  chronic_disease_binary    bool   \n",
            " 19  chronic_disease           object \n",
            " 20  source                    object \n",
            " 21  sequence_available        object \n",
            " 22  outcome                   object \n",
            " 23  date_death_or_discharge   object \n",
            " 24  notes_for_discussion      object \n",
            " 25  location                  object \n",
            " 26  admin3                    object \n",
            " 27  admin2                    object \n",
            " 28  admin1                    object \n",
            " 29  country_new               object \n",
            " 30  admin_id                  float64\n",
            " 31  data_moderator_initials   object \n",
            " 32  travel_history_binary     object \n",
            "dtypes: bool(1), float64(3), object(29)\n",
            "memory usage: 655.9+ MB\n"
          ],
          "name": "stdout"
        }
      ]
    },
    {
      "cell_type": "code",
      "metadata": {
        "id": "RqMvufJjR8Lp",
        "colab": {
          "base_uri": "https://localhost:8080/",
          "height": 389
        },
        "outputId": "7d81f1c4-1f3b-43d9-e3ce-13c9f596f307"
      },
      "source": [
        "ax = sns.barplot(x=[column for column in df.columns], y=[len( df.loc[df[item].isnull()==False])/df.shape[0] for item in df.columns])\n",
        "s=[item.set_rotation(90) for item in ax.get_xticklabels()]"
      ],
      "execution_count": null,
      "outputs": [
        {
          "output_type": "display_data",
          "data": {
            "image/png": "[encoded data removed]",
            "text/plain": [
              "<Figure size 432x288 with 1 Axes>"
            ]
          },
          "metadata": {
            "tags": [],
            "needs_background": "light"
          }
        }
      ]
    },
    {
      "cell_type": "code",
      "metadata": {
        "id": "GN8RCuALRykm",
        "colab": {
          "base_uri": "https://localhost:8080/"
        },
        "outputId": "12aad691-6657-4e19-d247-d0a08d2465b7"
      },
      "source": [
        "sns.heatmap(df.isnull(), cbar=False)"
      ],
      "execution_count": null,
      "outputs": [
        {
          "output_type": "execute_result",
          "data": {
            "text/plain": [
              "<matplotlib.axes._subplots.AxesSubplot at 0x7f24e64a40f0>"
            ]
          },
          "metadata": {
            "tags": []
          },
          "execution_count": 5
        },
        {
          "output_type": "display_data",
          "data": {
            "image/png": "[encoded data removed]",
            "text/plain": [
              "<Figure size 432x288 with 1 Axes>"
            ]
          },
          "metadata": {
            "tags": [],
            "needs_background": "light"
          }
        }
      ]
    },
    {
      "cell_type": "markdown",
      "metadata": {
        "id": "gmvdmMbMS2lH"
      },
      "source": [
        "\n",
        "\n",
        "> ## Drop some columns \n",
        "\n"
      ]
    },
    {
      "cell_type": "code",
      "metadata": {
        "id": "vIFLzDc4MBm7"
      },
      "source": [
        "#DROPPING DUPLICATES\n",
        "df=df.drop('ID',axis=1).drop_duplicates()"
      ],
      "execution_count": null,
      "outputs": []
    },
    {
      "cell_type": "code",
      "metadata": {
        "colab": {
          "base_uri": "https://localhost:8080/",
          "height": 194
        },
        "id": "UJRgW0DUTE1e",
        "outputId": "bd14a600-62a4-4238-8c90-de7ee2324c47"
      },
      "source": [
        "to_remove=[ 'city', 'latitude','province','date_admission_hospital',\n",
        "       'longitude', 'geo_resolution',\n",
        "       'lives_in_Wuhan', 'travel_history_location',\"travel_history_dates\",\n",
        "       'reported_market_exposure', 'additional_information', 'chronic_disease', 'source',\n",
        "       'sequence_available', 'date_death_or_discharge',\n",
        "       'notes_for_discussion', 'location', 'admin3', 'admin2', 'admin1',\n",
        "       'country_new', 'admin_id', 'data_moderator_initials']\n",
        "\n",
        "df = df.drop(to_remove,axis=1)\n",
        "df.head()"
      ],
      "execution_count": null,
      "outputs": [
        {
          "output_type": "execute_result",
          "data": {
            "text/html": [
              "<div>\n",
              "<style scoped>\n",
              "    .dataframe tbody tr th:only-of-type {\n",
              "        vertical-align: middle;\n",
              "    }\n",
              "\n",
              "    .dataframe tbody tr th {\n",
              "        vertical-align: top;\n",
              "    }\n",
              "\n",
              "    .dataframe thead th {\n",
              "        text-align: right;\n",
              "    }\n",
              "</style>\n",
              "<table border=\"1\" class=\"dataframe\">\n",
              "  <thead>\n",
              "    <tr style=\"text-align: right;\">\n",
              "      <th></th>\n",
              "      <th>age</th>\n",
              "      <th>sex</th>\n",
              "      <th>country</th>\n",
              "      <th>date_onset_symptoms</th>\n",
              "      <th>date_confirmation</th>\n",
              "      <th>symptoms</th>\n",
              "      <th>chronic_disease_binary</th>\n",
              "      <th>outcome</th>\n",
              "      <th>travel_history_binary</th>\n",
              "    </tr>\n",
              "  </thead>\n",
              "  <tbody>\n",
              "    <tr>\n",
              "      <th>0</th>\n",
              "      <td>NaN</td>\n",
              "      <td>male</td>\n",
              "      <td>China</td>\n",
              "      <td>NaN</td>\n",
              "      <td>14.02.2020</td>\n",
              "      <td>NaN</td>\n",
              "      <td>False</td>\n",
              "      <td>critical condition, intubated as of 14.02.2020</td>\n",
              "      <td>NaN</td>\n",
              "    </tr>\n",
              "    <tr>\n",
              "      <th>1</th>\n",
              "      <td>78</td>\n",
              "      <td>male</td>\n",
              "      <td>Italy</td>\n",
              "      <td>NaN</td>\n",
              "      <td>21.02.2020</td>\n",
              "      <td>NaN</td>\n",
              "      <td>False</td>\n",
              "      <td>death</td>\n",
              "      <td>NaN</td>\n",
              "    </tr>\n",
              "    <tr>\n",
              "      <th>2</th>\n",
              "      <td>61</td>\n",
              "      <td>female</td>\n",
              "      <td>Singapore</td>\n",
              "      <td>NaN</td>\n",
              "      <td>14.02.2020</td>\n",
              "      <td>NaN</td>\n",
              "      <td>False</td>\n",
              "      <td>discharge</td>\n",
              "      <td>NaN</td>\n",
              "    </tr>\n",
              "    <tr>\n",
              "      <th>3</th>\n",
              "      <td>NaN</td>\n",
              "      <td>NaN</td>\n",
              "      <td>China</td>\n",
              "      <td>NaN</td>\n",
              "      <td>26.01.2020</td>\n",
              "      <td>NaN</td>\n",
              "      <td>False</td>\n",
              "      <td>NaN</td>\n",
              "      <td>NaN</td>\n",
              "    </tr>\n",
              "    <tr>\n",
              "      <th>4</th>\n",
              "      <td>NaN</td>\n",
              "      <td>NaN</td>\n",
              "      <td>China</td>\n",
              "      <td>NaN</td>\n",
              "      <td>14.02.2020</td>\n",
              "      <td>NaN</td>\n",
              "      <td>False</td>\n",
              "      <td>NaN</td>\n",
              "      <td>NaN</td>\n",
              "    </tr>\n",
              "  </tbody>\n",
              "</table>\n",
              "</div>"
            ],
            "text/plain": [
              "   age  ... travel_history_binary\n",
              "0  NaN  ...                   NaN\n",
              "1   78  ...                   NaN\n",
              "2   61  ...                   NaN\n",
              "3  NaN  ...                   NaN\n",
              "4  NaN  ...                   NaN\n",
              "\n",
              "[5 rows x 9 columns]"
            ]
          },
          "metadata": {
            "tags": []
          },
          "execution_count": 7
        }
      ]
    },
    {
      "cell_type": "code",
      "metadata": {
        "colab": {
          "base_uri": "https://localhost:8080/",
          "height": 394
        },
        "id": "l1HLxP2uTnGr",
        "outputId": "f7ebb13b-1342-4ccc-8365-1d7614b3b54d"
      },
      "source": [
        "sns.heatmap(df.isnull(), cbar=False)"
      ],
      "execution_count": null,
      "outputs": [
        {
          "output_type": "execute_result",
          "data": {
            "text/plain": [
              "<matplotlib.axes._subplots.AxesSubplot at 0x7f24e7033048>"
            ]
          },
          "metadata": {
            "tags": []
          },
          "execution_count": 8
        },
        {
          "output_type": "display_data",
          "data": {
            "image/png": "[encoded data removed]",
            "text/plain": [
              "<Figure size 432x288 with 1 Axes>"
            ]
          },
          "metadata": {
            "tags": [],
            "needs_background": "light"
          }
        }
      ]
    },
    {
      "cell_type": "markdown",
      "metadata": {
        "id": "b7srI-ahTqTm"
      },
      "source": [
        "# Preprocessing\n"
      ]
    },
    {
      "cell_type": "markdown",
      "metadata": {
        "id": "t88pW4-yVQ9H"
      },
      "source": [
        ">  ## Standardizing 'Outcome'"
      ]
    },
    {
      "cell_type": "code",
      "metadata": {
        "colab": {
          "base_uri": "https://localhost:8080/"
        },
        "id": "R_xEer_Pm8GT",
        "outputId": "935372a9-acd9-4fac-99ec-4e8e6f818411"
      },
      "source": [
        "len(df.outcome.unique())"
      ],
      "execution_count": null,
      "outputs": [
        {
          "output_type": "execute_result",
          "data": {
            "text/plain": [
              "35"
            ]
          },
          "metadata": {
            "tags": []
          },
          "execution_count": 9
        }
      ]
    },
    {
      "cell_type": "code",
      "metadata": {
        "colab": {
          "base_uri": "https://localhost:8080/",
          "height": 625
        },
        "id": "Z9OYNpzmU87Q",
        "outputId": "0dc0996a-f4ff-4fa4-90b7-9ed1f04e8f98"
      },
      "source": [
        "ax = sns.barplot(x=[column for column in df.outcome.unique()], y=[len( df.loc[df.outcome==item])/df.shape[0] for item in df.outcome.unique()])\n",
        "s=[item.set_rotation(90) for item in ax.get_xticklabels()]"
      ],
      "execution_count": null,
      "outputs": [
        {
          "output_type": "display_data",
          "data": {
            "image/png": "[encoded data removed]",
            "text/plain": [
              "<Figure size 432x288 with 1 Axes>"
            ]
          },
          "metadata": {
            "tags": [],
            "needs_background": "light"
          }
        }
      ]
    },
    {
      "cell_type": "code",
      "metadata": {
        "id": "JDFfJ0DIVdlX"
      },
      "source": [
        "df.loc[\n",
        "       (df.outcome == 'death') | (df.outcome == 'died') |\n",
        "       (df.outcome == 'Death') | (df.outcome == 'dead') |\n",
        "       (df.outcome == 'Dead') | (df.outcome == 'Died') |\n",
        "       (df.outcome == 'Deceased') ,'outcome'\n",
        "       ]=0  #'dead'\n",
        "\n",
        "df.loc[\n",
        "       (df.outcome == 'critical condition, intubated as of 14.02.2020') | (df.outcome == 'severe') |\n",
        "       (df.outcome == 'treated in an intensive care unit (14.02.2020)') | (df.outcome == 'Critical condition') |\n",
        "       (df.outcome == 'severe illness') | (df.outcome == 'unstable') |\n",
        "       (df.outcome == 'critical condition') ,'outcome'\n",
        "       ]=1  #'critical'\n",
        "\n",
        "df.loc[\n",
        "       (df.outcome == 'discharge') | (df.outcome == 'discharged') |\n",
        "       (df.outcome == 'Discharged') | (df.outcome == 'Discharged from hospital') |\n",
        "       (df.outcome == 'released from quarantine') | (df.outcome == 'recovering at home 03.03.2020') |\n",
        "       (df.outcome == 'not hospitalized') ,'outcome'\n",
        "       ]=2  #'discharged'\n",
        "\n",
        "df.loc[\n",
        "       (df.outcome == 'recovered') | (df.outcome == 'Recovered') ,'outcome'\n",
        "       ]=3  #'recovered'\n",
        "\n",
        "df.loc[\n",
        "       (df.outcome == 'stable') | (df.outcome == 'Symptoms only improved with cough. Currently hospitalized for follow-up.') |\n",
        "       (df.outcome == 'Stable') | (df.outcome == 'stable condition') | (df.outcome == 'Alive'),'outcome'\n",
        "       ]=4  #'stable'\n",
        "\n",
        "df.loc[\n",
        "       (df.outcome == 'Hospitalized') | (df.outcome == 'Under treatment') |\n",
        "       (df.outcome == 'Receiving Treatment')|(df.outcome == 'Migrated') | (df.outcome == 'Migrated_Other')\n",
        "       ,'outcome'\n",
        "       ]=5  #'hospitalized'\n",
        "\n",
        "# To Blank\n",
        "df.loc[\n",
        "       (df.outcome == 'https://www.mspbs.gov.py/covid-19.php') | (df.outcome == 'nan'),'outcome'\n",
        "       ]=np.nan\n",
        "\n",
        "df.outcome=pd.to_numeric(df.outcome, downcast='integer', errors='ignore')"
      ],
      "execution_count": null,
      "outputs": []
    },
    {
      "cell_type": "code",
      "metadata": {
        "colab": {
          "base_uri": "https://localhost:8080/",
          "height": 271
        },
        "id": "eHPEW-ozYL7Z",
        "outputId": "32a387df-b229-4025-ff97-df372d12a4ed"
      },
      "source": [
        "ax = sns.barplot(x=[column for column in df.outcome.unique()], y=[len( df.loc[df.outcome==item])/df.shape[0] for item in df.outcome.unique()])\n",
        "s=[item.set_rotation(90) for item in ax.get_xticklabels()]"
      ],
      "execution_count": null,
      "outputs": [
        {
          "output_type": "display_data",
          "data": {
            "image/png": "[encoded data removed]",
            "text/plain": [
              "<Figure size 432x288 with 1 Axes>"
            ]
          },
          "metadata": {
            "tags": [],
            "needs_background": "light"
          }
        }
      ]
    },
    {
      "cell_type": "markdown",
      "metadata": {
        "id": "2DlliigRYSyD"
      },
      "source": [
        ">  ## Standardizing 'Age'"
      ]
    },
    {
      "cell_type": "code",
      "metadata": {
        "id": "MM6fmt8eYTyu"
      },
      "source": [
        "df.age=pd.to_numeric(df.age, errors='coerce',downcast='integer')\n",
        "df.age = df.age.apply(lambda x: int(x) if pd.notna(x) else x)"
      ],
      "execution_count": null,
      "outputs": []
    },
    {
      "cell_type": "code",
      "metadata": {
        "colab": {
          "base_uri": "https://localhost:8080/",
          "height": 284
        },
        "id": "kdk2fcoVYgSV",
        "outputId": "c292094b-d210-4750-e7d9-23eacb9341eb"
      },
      "source": [
        "ax = sns.barplot(x=[column for column in df.age.unique()], y=[len( df.loc[df.age==item]) for item in df.age.unique()])\n",
        "s=[item.set_rotation(90) for item in ax.get_xticklabels()]"
      ],
      "execution_count": null,
      "outputs": [
        {
          "output_type": "display_data",
          "data": {
            "image/png": "[encoded data removed]",
            "text/plain": [
              "<Figure size 432x288 with 1 Axes>"
            ]
          },
          "metadata": {
            "tags": [],
            "needs_background": "light"
          }
        }
      ]
    },
    {
      "cell_type": "markdown",
      "metadata": {
        "id": "40JfVEKoZWUO"
      },
      "source": [
        ">> ### Outlayers and Missing values"
      ]
    },
    {
      "cell_type": "code",
      "metadata": {
        "colab": {
          "base_uri": "https://localhost:8080/",
          "height": 283
        },
        "id": "WuFQ6TLoYvkG",
        "outputId": "c88803d9-1c4d-4ccd-8b2b-a9e9381a5a75"
      },
      "source": [
        "df.boxplot(column=['age'])"
      ],
      "execution_count": null,
      "outputs": [
        {
          "output_type": "execute_result",
          "data": {
            "text/plain": [
              "<matplotlib.axes._subplots.AxesSubplot at 0x7f24e33874e0>"
            ]
          },
          "metadata": {
            "tags": []
          },
          "execution_count": 15
        },
        {
          "output_type": "display_data",
          "data": {
            "image/png": "[encoded data removed]",
            "text/plain": [
              "<Figure size 432x288 with 1 Axes>"
            ]
          },
          "metadata": {
            "tags": [],
            "needs_background": "light"
          }
        }
      ]
    },
    {
      "cell_type": "code",
      "metadata": {
        "colab": {
          "base_uri": "https://localhost:8080/"
        },
        "id": "9oteYzeKY5U_",
        "outputId": "ba608f70-7ec1-409e-861c-2fffd95a5dd7"
      },
      "source": [
        "df.age.describe().astype(int)"
      ],
      "execution_count": null,
      "outputs": [
        {
          "output_type": "execute_result",
          "data": {
            "text/plain": [
              "count    274762\n",
              "mean         42\n",
              "std          18\n",
              "min           0\n",
              "25%          29\n",
              "50%          41\n",
              "75%          55\n",
              "max         121\n",
              "Name: age, dtype: int64"
            ]
          },
          "metadata": {
            "tags": []
          },
          "execution_count": 16
        }
      ]
    },
    {
      "cell_type": "code",
      "metadata": {
        "colab": {
          "base_uri": "https://localhost:8080/"
        },
        "id": "Cyelg56FY-iX",
        "outputId": "b2408a81-d56c-4585-8874-42c92235577f"
      },
      "source": [
        "mu, sigma = 41, 17 # mean and standard deviation\n",
        "df.loc[df.age.isnull()==True, 'age'] =  abs(np.random.normal(mu, sigma,len(df.loc[df.age.isnull()==True])).astype(int))\n",
        "df.age.describe().astype(int)"
      ],
      "execution_count": null,
      "outputs": [
        {
          "output_type": "execute_result",
          "data": {
            "text/plain": [
              "count    503791\n",
              "mean         41\n",
              "std          17\n",
              "min           0\n",
              "25%          29\n",
              "50%          41\n",
              "75%          53\n",
              "max         121\n",
              "Name: age, dtype: int64"
            ]
          },
          "metadata": {
            "tags": []
          },
          "execution_count": 17
        }
      ]
    },
    {
      "cell_type": "code",
      "metadata": {
        "id": "1Rf521v8aA46"
      },
      "source": [
        "df=df.drop(df.loc[df.age>90].index)"
      ],
      "execution_count": null,
      "outputs": []
    },
    {
      "cell_type": "code",
      "metadata": {
        "colab": {
          "base_uri": "https://localhost:8080/",
          "height": 283
        },
        "id": "vjJXZ3PrZHfg",
        "outputId": "54612768-5eb7-4435-863e-52fcb75a2202"
      },
      "source": [
        "df.boxplot(column=['age'])"
      ],
      "execution_count": null,
      "outputs": [
        {
          "output_type": "execute_result",
          "data": {
            "text/plain": [
              "<matplotlib.axes._subplots.AxesSubplot at 0x7f24e33596a0>"
            ]
          },
          "metadata": {
            "tags": []
          },
          "execution_count": 19
        },
        {
          "output_type": "display_data",
          "data": {
            "image/png": "[encoded data removed]",
            "text/plain": [
              "<Figure size 432x288 with 1 Axes>"
            ]
          },
          "metadata": {
            "tags": [],
            "needs_background": "light"
          }
        }
      ]
    },
    {
      "cell_type": "markdown",
      "metadata": {
        "id": "4yqqTddcb5jY"
      },
      "source": [
        "> ## Standardizing 'Symptoms' using DBScan to group them"
      ]
    },
    {
      "cell_type": "code",
      "metadata": {
        "colab": {
          "base_uri": "https://localhost:8080/"
        },
        "id": "7Zpby3l-cpa5",
        "outputId": "cc50ec0a-27b6-43cc-bf4e-1cc1ffff070b"
      },
      "source": [
        "len(df.symptoms.unique())"
      ],
      "execution_count": null,
      "outputs": [
        {
          "output_type": "execute_result",
          "data": {
            "text/plain": [
              "449"
            ]
          },
          "metadata": {
            "tags": []
          },
          "execution_count": 20
        }
      ]
    },
    {
      "cell_type": "code",
      "metadata": {
        "id": "QW5PYHqGcZRx"
      },
      "source": [
        "#cleaning each sympthom and split it into different ones\n",
        "def clean_keys(keys):\n",
        "  \n",
        "  list_keys={}\n",
        "  cleanned_key=[]\n",
        "\n",
        "  for item in keys:\n",
        "    result = re.sub(r'\\d+', '', item)\n",
        "\n",
        "    # cleanned_key=[]\n",
        "\n",
        "    for x in result.strip().split(','):\n",
        "      temp= x.lower()\n",
        "      temp = x.replace('°', '')\n",
        "      temp = temp.replace('℃', '')\n",
        "      temp = temp.replace('&', ',')\n",
        "      temp = temp.replace('~', '')\n",
        "      temp= temp.translate(str.maketrans('', '', string.punctuation))\n",
        "      temp = temp.strip()\n",
        "      \n",
        "      if not temp in cleanned_key:\n",
        "        cleanned_key.append(temp)\n",
        "    \n",
        "    # list_keys[item]=cleanned_key\n",
        "  \n",
        "  return cleanned_key\n",
        "  # return list_keys\n",
        "\n",
        "\n",
        "# data = clean_keys(df.symptoms.unique().astype(str))"
      ],
      "execution_count": null,
      "outputs": []
    },
    {
      "cell_type": "code",
      "metadata": {
        "id": "JyLAjR8HceHP"
      },
      "source": [
        "df.symptoms= df.symptoms.str.lower()\n",
        "data = df.symptoms.unique().astype(str)\n",
        "\n",
        "def lev_metric(x, y):\n",
        "    i, j = int(x[0]), int(y[0])     # extract indices\n",
        "    return levenshtein(data[i], data[j])\n",
        "\n",
        "X = np.arange(len(data)).reshape(-1, 1)\n",
        "dbscan_out=dbscan(X, metric=lev_metric, eps=4, min_samples=2)\n",
        "# s"
      ],
      "execution_count": null,
      "outputs": []
    },
    {
      "cell_type": "code",
      "metadata": {
        "colab": {
          "base_uri": "https://localhost:8080/"
        },
        "id": "M7xKkIDecijg",
        "outputId": "e64a6dca-90a2-44d6-e232-0eb1dc57a60d"
      },
      "source": [
        "clusters={}\n",
        "for item,cluster in zip(dbscan_out[0],dbscan_out[1]):\n",
        "  if cluster in clusters.keys():\n",
        "    clusters[cluster].append(data[item])\n",
        "  else:\n",
        "    clusters[cluster]=[data[item]]\n",
        "count=0\n",
        "for i in clusters.keys():\n",
        "  count+=len(clusters[i])\n",
        "  \n",
        "print(\"====== NUmber of clusters ======\")\n",
        "print(count)\n",
        "\n",
        "df['symptoms_dbscan']=np.nan\n",
        "for key in data:\n",
        "  for i in clusters.keys():\n",
        "    if key in clusters[i]:\n",
        "      df.loc[df.symptoms==key,'symptoms_dbscan']=i\n",
        "      break"
      ],
      "execution_count": null,
      "outputs": [
        {
          "output_type": "stream",
          "text": [
            "====== NUmber of clusters ======\n",
            "99\n"
          ],
          "name": "stdout"
        }
      ]
    },
    {
      "cell_type": "code",
      "metadata": {
        "id": "WmC6GqF8dSXP"
      },
      "source": [
        "df = df.drop(\"symptoms\",axis=1)"
      ],
      "execution_count": null,
      "outputs": []
    },
    {
      "cell_type": "markdown",
      "metadata": {
        "id": "SD39e-oHb5mW"
      },
      "source": [
        "> ## Standardizing 'Sex'"
      ]
    },
    {
      "cell_type": "code",
      "metadata": {
        "id": "vL5sUUfxcQZQ"
      },
      "source": [
        "le2 = preprocessing.LabelEncoder()\n",
        "le2.fit([x for x in df.sex.unique() if pd.notna(x)])\n",
        "# list(le2.classes_)\n",
        "df.sex = df.sex.apply( lambda x: le2.transform([str(x)])[0] if pd.notna(x) else x)"
      ],
      "execution_count": null,
      "outputs": []
    },
    {
      "cell_type": "code",
      "metadata": {
        "colab": {
          "base_uri": "https://localhost:8080/"
        },
        "id": "vLWo5ijNdnGO",
        "outputId": "f0e83d16-2d93-40e4-b47f-230c17e4f7d5"
      },
      "source": [
        "ax = sns.barplot(x=[column for column in df.sex.unique()], y=[len( df.loc[df.sex==item]) for item in df.sex.unique()])\n",
        "s=[item.set_rotation(90) for item in ax.get_xticklabels()]\n",
        "\n",
        "ax.legend(labels=['0-Female', '1-Male'])"
      ],
      "execution_count": null,
      "outputs": [
        {
          "output_type": "execute_result",
          "data": {
            "text/plain": [
              "<matplotlib.legend.Legend at 0x7f24e32c8240>"
            ]
          },
          "metadata": {
            "tags": []
          },
          "execution_count": 26
        },
        {
          "output_type": "display_data",
          "data": {
            "image/png": "[encoded data removed]",
            "text/plain": [
              "<Figure size 432x288 with 1 Axes>"
            ]
          },
          "metadata": {
            "tags": [],
            "needs_background": "light"
          }
        }
      ]
    },
    {
      "cell_type": "markdown",
      "metadata": {
        "id": "4XK8UHadb5g2"
      },
      "source": [
        "> ## Standardizing 'Countries'"
      ]
    },
    {
      "cell_type": "code",
      "metadata": {
        "id": "GVXoQNVsftZa"
      },
      "source": [
        "#Encoding Countries\n",
        "le = preprocessing.LabelEncoder()\n",
        "le.fit([x for x in df.country.unique() if pd.notna(x)])\n",
        "# list(le.classes_)\n",
        "df.country = df.country.apply( lambda x: le.transform([str(x)])[0] if pd.notna(x) else x)\n",
        "\n",
        "# list(le.inverse_transform([2, 2, 1]))"
      ],
      "execution_count": null,
      "outputs": []
    },
    {
      "cell_type": "code",
      "metadata": {
        "colab": {
          "base_uri": "https://localhost:8080/"
        },
        "id": "TmfmgwCjfx6o",
        "outputId": "aa0136b8-7546-4e8e-f2b6-25babb53834f"
      },
      "source": [
        "ax = sns.scatterplot(x=[column for column in df.country.unique()], y=[len( df.loc[df.country==item]) for item in df.country.unique()])\n",
        "s=[item.set_rotation(90) for item in ax.get_xticklabels()]\n"
      ],
      "execution_count": null,
      "outputs": [
        {
          "output_type": "display_data",
          "data": {
            "image/png": "[encoded data removed]",
            "text/plain": [
              "<Figure size 432x288 with 1 Axes>"
            ]
          },
          "metadata": {
            "tags": [],
            "needs_background": "light"
          }
        }
      ]
    },
    {
      "cell_type": "markdown",
      "metadata": {
        "id": "orVmuqKBb5eI"
      },
      "source": [
        "> ## Standardizing 'travel_history_binary'"
      ]
    },
    {
      "cell_type": "code",
      "metadata": {
        "id": "2s9Q405hgA0r"
      },
      "source": [
        "#Encoding Travel_history\n",
        "df.travel_history_binary = df.travel_history_binary.astype(bool)"
      ],
      "execution_count": null,
      "outputs": []
    },
    {
      "cell_type": "code",
      "metadata": {
        "colab": {
          "base_uri": "https://localhost:8080/"
        },
        "id": "IrFXb9_6gFdI",
        "outputId": "39520e73-d567-416f-d624-b92cb5a89ab7"
      },
      "source": [
        "ax = sns.barplot(x=[column for column in df.travel_history_binary.unique()], y=[len( df.loc[df.travel_history_binary==item]) for item in df.travel_history_binary.unique()])\n",
        "s=[item.set_rotation(90) for item in ax.get_xticklabels()]\n"
      ],
      "execution_count": null,
      "outputs": [
        {
          "output_type": "display_data",
          "data": {
            "image/png": "[encoded data removed]",
            "text/plain": [
              "<Figure size 432x288 with 1 Axes>"
            ]
          },
          "metadata": {
            "tags": [],
            "needs_background": "light"
          }
        }
      ]
    },
    {
      "cell_type": "markdown",
      "metadata": {
        "id": "sa46ZRlxb5bN"
      },
      "source": [
        "> ## Standardizing 'date_time' values"
      ]
    },
    {
      "cell_type": "code",
      "metadata": {
        "id": "8nw9cnsGhHV3"
      },
      "source": [
        "#one wrong date format\n",
        "df.loc[df.date_onset_symptoms=='01.31.2020', 'date_onset_symptoms']='31.01.2020'"
      ],
      "execution_count": null,
      "outputs": []
    },
    {
      "cell_type": "code",
      "metadata": {
        "id": "C4n6cly9hUJc"
      },
      "source": [
        "#setting each day to datetime\n",
        "min_onset=datetime.datetime.strptime('31.12.2021', '%d.%m.%Y')\n",
        "for item in df.date_onset_symptoms.unique():\n",
        "  if pd.notna(item):\n",
        "    temp_date = datetime.datetime.strptime(str(item)[:10], '%d.%m.%Y')\n",
        "    min_onset = temp_date if temp_date < min_onset else min_onset\n",
        "\n",
        "#standadize to number of days since the minimal\n",
        "df.date_onset_symptoms = df.date_onset_symptoms.apply(lambda x: abs(datetime.datetime.strptime(str(x)[:10], '%d.%m.%Y')-min_onset).days if pd.notna(x) else np.nan)"
      ],
      "execution_count": null,
      "outputs": []
    },
    {
      "cell_type": "code",
      "metadata": {
        "id": "zChKLaBZhhvF"
      },
      "source": [
        "df.date_confirmation = df.date_confirmation.apply(lambda x: abs(datetime.datetime.strptime(str(x)[:10], '%d.%m.%Y')-min_onset).days if pd.notna(x) else np.nan)"
      ],
      "execution_count": null,
      "outputs": []
    },
    {
      "cell_type": "code",
      "metadata": {
        "id": "1hlqQa-mArIY"
      },
      "source": [
        "a=df.loc[(df.date_confirmation.isnull()==False) & (df.date_onset_symptoms.isnull()==False) ]"
      ],
      "execution_count": null,
      "outputs": []
    },
    {
      "cell_type": "code",
      "metadata": {
        "colab": {
          "base_uri": "https://localhost:8080/"
        },
        "id": "oA8TL5u6BGpl",
        "outputId": "c715e484-7d82-459f-d476-d3b16dc26af2"
      },
      "source": [
        "(a.date_confirmation - a.date_onset_symptoms).describe()"
      ],
      "execution_count": null,
      "outputs": [
        {
          "output_type": "execute_result",
          "data": {
            "text/plain": [
              "count    213783.000000\n",
              "mean          6.566158\n",
              "std           7.351204\n",
              "min         -49.000000\n",
              "25%           1.000000\n",
              "50%           5.000000\n",
              "75%           9.000000\n",
              "max         138.000000\n",
              "dtype: float64"
            ]
          },
          "metadata": {
            "tags": []
          },
          "execution_count": 35
        }
      ]
    },
    {
      "cell_type": "markdown",
      "metadata": {
        "id": "89PnCQ1Kb5Xj"
      },
      "source": [
        "> > ### MIssing values. Set the missing values to the mean difference between the confirmation day and the onset symptoms day"
      ]
    },
    {
      "cell_type": "code",
      "metadata": {
        "id": "cT7euasSiASc"
      },
      "source": [
        "#Filling up the missing values on date_confiramtion by adding the mean diff to the onset_symptoms day\n",
        "\n",
        "df.loc[(df.date_confirmation.isnull()==True) & (df.date_onset_symptoms.isnull()==False),'date_confirmation']=df.loc[(df.date_onset_symptoms.isnull()==False) & (df.date_confirmation.isnull()==True),'date_onset_symptoms']+6"
      ],
      "execution_count": null,
      "outputs": []
    },
    {
      "cell_type": "code",
      "metadata": {
        "colab": {
          "base_uri": "https://localhost:8080/"
        },
        "id": "giJXoB2jiUE0",
        "outputId": "ddd25a88-ec47-485c-ed42-085bbf31d3a2"
      },
      "source": [
        "df.loc[df.date_confirmation.isnull()==False,'date_confirmation'].describe().astype(int)"
      ],
      "execution_count": null,
      "outputs": [
        {
          "output_type": "execute_result",
          "data": {
            "text/plain": [
              "count    493097\n",
              "mean        136\n",
              "std          26\n",
              "min           6\n",
              "25%         115\n",
              "50%         137\n",
              "75%         160\n",
              "max         358\n",
              "Name: date_confirmation, dtype: int64"
            ]
          },
          "metadata": {
            "tags": []
          },
          "execution_count": 45
        }
      ]
    },
    {
      "cell_type": "code",
      "metadata": {
        "colab": {
          "base_uri": "https://localhost:8080/"
        },
        "id": "u-24iyKJiUAT",
        "outputId": "eab339d1-362b-48d1-ee45-d687b96e4c18"
      },
      "source": [
        "#filling up the missing values with a random distribution\n",
        "\n",
        "mu, sigma = 133, 25 # mean and standard deviation\n",
        "df.loc[df.date_confirmation.isnull()==True, 'date_confirmation'] =  np.random.normal(mu, sigma,len(df.loc[df.date_confirmation.isnull()==True])).astype(int)\n",
        "df.loc[df.date_confirmation.isnull()==False,'date_confirmation'].describe().astype(int)"
      ],
      "execution_count": null,
      "outputs": [
        {
          "output_type": "execute_result",
          "data": {
            "text/plain": [
              "count    502228\n",
              "mean        136\n",
              "std          26\n",
              "min           6\n",
              "25%         115\n",
              "50%         137\n",
              "75%         160\n",
              "max         358\n",
              "Name: date_confirmation, dtype: int64"
            ]
          },
          "metadata": {
            "tags": []
          },
          "execution_count": 46
        }
      ]
    },
    {
      "cell_type": "code",
      "metadata": {
        "id": "LgBSOaU3ifOf"
      },
      "source": [
        "#Filling up the missing values on date_onset_symptoms by adding the mean diff to the onset_symptoms day\n",
        "df.loc[(df.date_onset_symptoms.isnull()==True) & (df.date_confirmation.isnull()==False),'date_onset_symptoms']=df.loc[(df.date_onset_symptoms.isnull()==True) & (df.date_confirmation.isnull()==False),'date_confirmation']-6"
      ],
      "execution_count": null,
      "outputs": []
    },
    {
      "cell_type": "markdown",
      "metadata": {
        "id": "I959Esu31XHH"
      },
      "source": [
        "> ## Adding a new column= diff between onset date of symptoms and date of confirmation"
      ]
    },
    {
      "cell_type": "code",
      "metadata": {
        "id": "DU01XCMK1eos"
      },
      "source": [
        "df['diff_date_onset_confirmation']=df.date_confirmation-df.date_onset_symptoms"
      ],
      "execution_count": null,
      "outputs": []
    },
    {
      "cell_type": "markdown",
      "metadata": {
        "id": "A_cSrvJLhH0C"
      },
      "source": [
        "# Predicting Outcome"
      ]
    },
    {
      "cell_type": "markdown",
      "metadata": {
        "id": "r9cr9NoTIZRZ"
      },
      "source": [
        "## Getting the columns with and without outcome"
      ]
    },
    {
      "cell_type": "code",
      "metadata": {
        "colab": {
          "base_uri": "https://localhost:8080/"
        },
        "id": "0HPJuUJ72eeS",
        "outputId": "90151f87-3151-4f03-c080-533febc8cff9"
      },
      "source": [
        "without_outcome = copy.deepcopy(df.loc[df.outcome.isnull()==True])\n",
        "without_outcome = without_outcome.drop('outcome',axis=1)\n",
        "without_outcome = without_outcome.drop('sex',axis=1)\n",
        "without_outcome = without_outcome.drop('symptoms_dbscan',axis=1)\n",
        "# without_outcome = without_outcome.drop('diff_date_onset_confirmation',axis=1)\n",
        "\n",
        "print(without_outcome.shape)\n",
        "\n",
        "X = copy.deepcopy(df.drop(df.loc[df.outcome.isnull()==True].index))\n",
        "X = X.drop(X.loc[X.country.isnull()==True].index)\n",
        "# X=X.drop_duplicates()\n",
        "# X = X.drop(X.loc[X.symptoms_dbscan.isnull()==True].index)\n",
        "\n",
        "y = copy.deepcopy(X.outcome)\n",
        "X = X.drop('outcome',axis=1)\n",
        "X = X.drop('sex',axis=1)\n",
        "X = X.drop('symptoms_dbscan',axis=1)\n",
        "# X = X.drop('diff_date_onset_confirmation',axis=1)"
      ],
      "execution_count": null,
      "outputs": [
        {
          "output_type": "stream",
          "text": [
            "(462182, 7)\n"
          ],
          "name": "stdout"
        }
      ]
    },
    {
      "cell_type": "code",
      "metadata": {
        "colab": {
          "base_uri": "https://localhost:8080/"
        },
        "id": "huTxsGtq2iMl",
        "outputId": "4cf8340a-322c-471d-92e9-8de3c57d6034"
      },
      "source": [
        "X.info()"
      ],
      "execution_count": null,
      "outputs": [
        {
          "output_type": "stream",
          "text": [
            "<class 'pandas.core.frame.DataFrame'>\n",
            "Int64Index: 40044 entries, 0 to 673607\n",
            "Data columns (total 7 columns):\n",
            " #   Column                        Non-Null Count  Dtype  \n",
            "---  ------                        --------------  -----  \n",
            " 0   age                           40044 non-null  float64\n",
            " 1   country                       40044 non-null  float64\n",
            " 2   date_onset_symptoms           40044 non-null  float64\n",
            " 3   date_confirmation             40044 non-null  float64\n",
            " 4   chronic_disease_binary        40044 non-null  bool   \n",
            " 5   travel_history_binary         40044 non-null  bool   \n",
            " 6   diff_date_onset_confirmation  40044 non-null  float64\n",
            "dtypes: bool(2), float64(5)\n",
            "memory usage: 1.9 MB\n"
          ],
          "name": "stdout"
        }
      ]
    },
    {
      "cell_type": "code",
      "metadata": {
        "id": "_FQM3HtZ2kJ3"
      },
      "source": [
        "X_train, X_test, y_train, y_test = train_test_split(X, y, test_size=0.4)"
      ],
      "execution_count": null,
      "outputs": []
    },
    {
      "cell_type": "markdown",
      "metadata": {
        "id": "ykKu9hPB2PEe"
      },
      "source": [
        "> ## KNN"
      ]
    },
    {
      "cell_type": "code",
      "metadata": {
        "colab": {
          "base_uri": "https://localhost:8080/"
        },
        "id": "Pwl3f56U1pbl",
        "outputId": "4c850fc5-c350-4f1d-cf20-e596e2486568"
      },
      "source": [
        "# classifier = KNeighborsClassifier(n_neighbors=108)\n",
        "classifier = KNeighborsClassifier(n_neighbors=25)\n",
        "classifier.fit(X_train, y_train)"
      ],
      "execution_count": null,
      "outputs": [
        {
          "output_type": "execute_result",
          "data": {
            "text/plain": [
              "KNeighborsClassifier(algorithm='auto', leaf_size=30, metric='minkowski',\n",
              "                     metric_params=None, n_jobs=None, n_neighbors=25, p=2,\n",
              "                     weights='uniform')"
            ]
          },
          "metadata": {
            "tags": []
          },
          "execution_count": 57
        }
      ]
    },
    {
      "cell_type": "code",
      "metadata": {
        "id": "ypJ87Awx1pZL"
      },
      "source": [
        "y_pred = classifier.predict(X_test)"
      ],
      "execution_count": null,
      "outputs": []
    },
    {
      "cell_type": "code",
      "metadata": {
        "colab": {
          "base_uri": "https://localhost:8080/"
        },
        "id": "IgXpFUBa1pWT",
        "outputId": "c15d107a-f976-47d4-e59b-40c3657485d5"
      },
      "source": [
        "# from sklearn.metrics import classification_report, confusion_matrix\n",
        "print(confusion_matrix(y_test, y_pred))\n",
        "print(classification_report(y_test, y_pred))"
      ],
      "execution_count": null,
      "outputs": [
        {
          "output_type": "stream",
          "text": [
            "[[  130     0     9   237     7   619]\n",
            " [    0     0     2     0     2     1]\n",
            " [    3     0    97     0    20     0]\n",
            " [   59     0     5  1487     2  2183]\n",
            " [    6     0     1     7    97    21]\n",
            " [    3     0     0    44     0 10976]]\n",
            "              precision    recall  f1-score   support\n",
            "\n",
            "         0.0       0.65      0.13      0.22      1002\n",
            "         1.0       0.00      0.00      0.00         5\n",
            "         2.0       0.85      0.81      0.83       120\n",
            "         3.0       0.84      0.40      0.54      3736\n",
            "         4.0       0.76      0.73      0.75       132\n",
            "         5.0       0.80      1.00      0.88     11023\n",
            "\n",
            "    accuracy                           0.80     16018\n",
            "   macro avg       0.65      0.51      0.54     16018\n",
            "weighted avg       0.80      0.80      0.76     16018\n",
            "\n"
          ],
          "name": "stdout"
        },
        {
          "output_type": "stream",
          "text": [
            "/usr/local/lib/python3.6/dist-packages/sklearn/metrics/_classification.py:1272: UndefinedMetricWarning: Precision and F-score are ill-defined and being set to 0.0 in labels with no predicted samples. Use `zero_division` parameter to control this behavior.\n",
            "  _warn_prf(average, modifier, msg_start, len(result))\n"
          ],
          "name": "stderr"
        }
      ]
    },
    {
      "cell_type": "code",
      "metadata": {
        "colab": {
          "base_uri": "https://localhost:8080/"
        },
        "id": "LUkdWA8_1pTP",
        "outputId": "3076b4fb-506d-4628-c115-00484401c3f5"
      },
      "source": [
        "error = []\n",
        "# Calculating error for K values between 1 and 40\n",
        "for i in range(1, 200):\n",
        "  print('================== ' + str(i) +' ================== ')\n",
        "  knn = KNeighborsClassifier(n_neighbors=i)\n",
        "  knn.fit(X_train, y_train)\n",
        "  pred_i = knn.predict(X_test)\n",
        "  error.append(np.mean(pred_i != y_test))\n",
        "  print(np.mean(pred_i != y_test))"
      ],
      "execution_count": null,
      "outputs": [
        {
          "output_type": "stream",
          "text": [
            "================== 1 ================== \n",
            "0.2936071919091023\n",
            "================== 2 ================== \n",
            "0.382881758022225\n",
            "================== 3 ================== \n",
            "0.2604569858908728\n",
            "================== 4 ================== \n",
            "0.26957173180172306\n",
            "================== 5 ================== \n",
            "0.23941815457610188\n",
            "================== 6 ================== \n",
            "0.2386689973779498\n",
            "================== 7 ================== \n",
            "0.22081408415532525\n",
            "================== 8 ================== \n",
            "0.21987763765763516\n",
            "================== 9 ================== \n",
            "0.21113747034586092\n",
            "================== 10 ================== \n",
            "0.21226120614308902\n",
            "================== 11 ================== \n",
            "0.20776626295417655\n",
            "================== 12 ================== \n",
            "0.20751654388812585\n",
            "================== 13 ================== \n",
            "0.20589336995879634\n",
            "================== 14 ================== \n",
            "0.20732925458858784\n",
            "================== 15 ================== \n",
            "0.20451991509551753\n",
            "================== 16 ================== \n",
            "0.20520664252715695\n",
            "================== 17 ================== \n",
            "0.20427019602946686\n",
            "================== 18 ================== \n",
            "0.20451991509551753\n",
            "================== 19 ================== \n",
            "0.20327131976526408\n",
            "================== 20 ================== \n",
            "0.20402047696341616\n",
            "================== 21 ================== \n",
            "0.20177300536895992\n",
            "================== 22 ================== \n",
            "0.20264702210013735\n",
            "================== 23 ================== \n",
            "0.20171057560244723\n",
            "================== 24 ================== \n",
            "0.202334873267574\n",
            "================== 25 ================== \n",
            "0.20171057560244723\n",
            "================== 26 ================== \n",
            "0.20221001373454864\n",
            "================== 27 ================== \n",
            "0.2022724435010613\n",
            "================== 28 ================== \n",
            "0.20289674116618803\n",
            "================== 29 ================== \n",
            "0.20314646023223873\n",
            "================== 30 ================== \n",
            "0.20289674116618803\n",
            "================== 31 ================== \n",
            "0.20283431139967537\n",
            "================== 32 ================== \n",
            "0.20308403046572607\n",
            "================== 33 ================== \n",
            "0.20289674116618803\n",
            "================== 34 ================== \n",
            "0.20289674116618803\n",
            "================== 35 ================== \n",
            "0.20302160069921338\n",
            "================== 36 ================== \n",
            "0.20308403046572607\n",
            "================== 37 ================== \n",
            "0.20339617929828943\n",
            "================== 38 ================== \n",
            "0.20333374953177674\n",
            "================== 39 ================== \n",
            "0.2036458983643401\n",
            "================== 40 ================== \n",
            "0.20383318766387815\n",
            "================== 41 ================== \n",
            "0.2036458983643401\n",
            "================== 42 ================== \n",
            "0.2039580471969035\n",
            "================== 43 ================== \n",
            "0.2039580471969035\n",
            "================== 44 ================== \n",
            "0.20383318766387815\n",
            "================== 45 ================== \n",
            "0.20358346859782744\n",
            "================== 46 ================== \n",
            "0.2034586090648021\n",
            "================== 47 ================== \n",
            "0.20358346859782744\n",
            "================== 48 ================== \n",
            "0.2039580471969035\n",
            "================== 49 ================== \n",
            "0.2036458983643401\n",
            "================== 50 ================== \n",
            "0.2039580471969035\n",
            "================== 51 ================== \n",
            "0.2041453364964415\n",
            "================== 52 ================== \n",
            "0.2039580471969035\n",
            "================== 53 ================== \n",
            "0.2038956174303908\n",
            "================== 54 ================== \n",
            "0.2038956174303908\n",
            "================== 55 ================== \n",
            "0.2041453364964415\n",
            "================== 56 ================== \n",
            "0.20458234486203022\n",
            "================== 57 ================== \n",
            "0.2048320639280809\n",
            "================== 58 ================== \n",
            "0.20514421276064426\n",
            "================== 59 ================== \n",
            "0.2053315020601823\n",
            "================== 60 ================== \n",
            "0.20520664252715695\n",
            "================== 61 ================== \n",
            "0.2048944936945936\n",
            "================== 62 ================== \n",
            "0.2052690722936696\n",
            "================== 63 ================== \n",
            "0.20495692346110625\n",
            "================== 64 ================== \n",
            "0.20495692346110625\n",
            "================== 65 ================== \n",
            "0.20539393182669496\n",
            "================== 66 ================== \n",
            "0.2053315020601823\n",
            "================== 67 ================== \n",
            "0.20558122112623298\n",
            "================== 68 ================== \n",
            "0.20595579972530903\n",
            "================== 69 ================== \n",
            "0.20589336995879634\n",
            "================== 70 ================== \n",
            "0.20614308902484704\n",
            "================== 71 ================== \n",
            "0.20620551879135973\n",
            "================== 72 ================== \n",
            "0.20620551879135973\n",
            "================== 73 ================== \n",
            "0.20620551879135973\n",
            "================== 74 ================== \n",
            "0.2062679485578724\n",
            "================== 75 ================== \n",
            "0.2065176676239231\n",
            "================== 76 ================== \n",
            "0.2065176676239231\n",
            "================== 77 ================== \n",
            "0.20664252715694845\n",
            "================== 78 ================== \n",
            "0.2067049569234611\n",
            "================== 79 ================== \n",
            "0.20720439505556248\n",
            "================== 80 ================== \n",
            "0.20701710575602447\n",
            "================== 81 ================== \n",
            "0.20732925458858784\n",
            "================== 82 ================== \n",
            "0.20720439505556248\n",
            "================== 83 ================== \n",
            "0.20751654388812585\n",
            "================== 84 ================== \n",
            "0.20726682482207517\n",
            "================== 85 ================== \n",
            "0.20732925458858784\n",
            "================== 86 ================== \n",
            "0.2074541141216132\n",
            "================== 87 ================== \n",
            "0.2074541141216132\n",
            "================== 88 ================== \n",
            "0.2074541141216132\n",
            "================== 89 ================== \n",
            "0.2074541141216132\n",
            "================== 90 ================== \n",
            "0.20757897365463854\n",
            "================== 91 ================== \n",
            "0.20776626295417655\n",
            "================== 92 ================== \n",
            "0.20776626295417655\n",
            "================== 93 ================== \n",
            "0.20776626295417655\n",
            "================== 94 ================== \n",
            "0.2078286927206892\n",
            "================== 95 ================== \n",
            "0.2078911224872019\n",
            "================== 96 ================== \n",
            "0.20801598202022725\n",
            "================== 97 ================== \n",
            "0.2078911224872019\n",
            "================== 98 ================== \n",
            "0.2078286927206892\n",
            "================== 99 ================== \n",
            "0.20795355225371456\n",
            "================== 100 ================== \n",
            "0.20795355225371456\n",
            "================== 101 ================== \n",
            "0.20795355225371456\n",
            "================== 102 ================== \n",
            "0.20807841178673991\n",
            "================== 103 ================== \n",
            "0.20801598202022725\n",
            "================== 104 ================== \n",
            "0.2078911224872019\n",
            "================== 105 ================== \n",
            "0.20795355225371456\n",
            "================== 106 ================== \n",
            "0.2081408415532526\n",
            "================== 107 ================== \n",
            "0.20807841178673991\n",
            "================== 108 ================== \n",
            "0.20826570108627793\n",
            "================== 109 ================== \n",
            "0.2081408415532526\n",
            "================== 110 ================== \n",
            "0.20820327131976527\n",
            "================== 111 ================== \n",
            "0.20820327131976527\n",
            "================== 112 ================== \n",
            "0.20832813085279062\n",
            "================== 113 ================== \n",
            "0.20826570108627793\n",
            "================== 114 ================== \n",
            "0.20832813085279062\n",
            "================== 115 ================== \n",
            "0.20820327131976527\n",
            "================== 116 ================== \n",
            "0.20832813085279062\n",
            "================== 117 ================== \n",
            "0.20832813085279062\n",
            "================== 118 ================== \n",
            "0.20845299038581597\n",
            "================== 119 ================== \n",
            "0.20832813085279062\n",
            "================== 120 ================== \n",
            "0.20832813085279062\n",
            "================== 121 ================== \n",
            "0.20839056061930328\n",
            "================== 122 ================== \n",
            "0.20820327131976527\n",
            "================== 123 ================== \n",
            "0.20832813085279062\n",
            "================== 124 ================== \n",
            "0.20839056061930328\n",
            "================== 125 ================== \n",
            "0.20839056061930328\n",
            "================== 126 ================== \n",
            "0.20839056061930328\n",
            "================== 127 ================== \n",
            "0.20839056061930328\n",
            "================== 128 ================== \n",
            "0.20845299038581597\n",
            "================== 129 ================== \n",
            "0.20851542015232863\n",
            "================== 130 ================== \n",
            "0.2085778499188413\n",
            "================== 131 ================== \n",
            "0.20864027968535398\n",
            "================== 132 ================== \n",
            "0.20870270945186664\n",
            "================== 133 ================== \n",
            "0.20888999875140468\n",
            "================== 134 ================== \n",
            "0.20895242851791734\n",
            "================== 135 ================== \n",
            "0.20888999875140468\n",
            "================== 136 ================== \n",
            "0.20876513921837933\n",
            "================== 137 ================== \n",
            "0.20901485828443\n",
            "================== 138 ================== \n",
            "0.20888999875140468\n",
            "================== 139 ================== \n",
            "0.20901485828443\n",
            "================== 140 ================== \n",
            "0.2090772880509427\n",
            "================== 141 ================== \n",
            "0.2090772880509427\n",
            "================== 142 ================== \n",
            "0.20901485828443\n",
            "================== 143 ================== \n",
            "0.20913971781745536\n",
            "================== 144 ================== \n",
            "0.20901485828443\n",
            "================== 145 ================== \n",
            "0.20913971781745536\n",
            "================== 146 ================== \n",
            "0.2090772880509427\n",
            "================== 147 ================== \n",
            "0.20913971781745536\n",
            "================== 148 ================== \n",
            "0.20888999875140468\n",
            "================== 149 ================== \n",
            "0.20895242851791734\n",
            "================== 150 ================== \n",
            "0.208827568984892\n",
            "================== 151 ================== \n",
            "0.20913971781745536\n",
            "================== 152 ================== \n",
            "0.20888999875140468\n",
            "================== 153 ================== \n",
            "0.20895242851791734\n",
            "================== 154 ================== \n",
            "0.20888999875140468\n",
            "================== 155 ================== \n",
            "0.20901485828443\n",
            "================== 156 ================== \n",
            "0.208827568984892\n",
            "================== 157 ================== \n",
            "0.20895242851791734\n",
            "================== 158 ================== \n",
            "0.20901485828443\n",
            "================== 159 ================== \n",
            "0.20901485828443\n",
            "================== 160 ================== \n",
            "0.20913971781745536\n",
            "================== 161 ================== \n",
            "0.20913971781745536\n",
            "================== 162 ================== \n",
            "0.20920214758396805\n",
            "================== 163 ================== \n",
            "0.20920214758396805\n",
            "================== 164 ================== \n",
            "0.20920214758396805\n",
            "================== 165 ================== \n",
            "0.2090772880509427\n",
            "================== 166 ================== \n",
            "0.2090772880509427\n",
            "================== 167 ================== \n",
            "0.20920214758396805\n",
            "================== 168 ================== \n",
            "0.2092645773504807\n",
            "================== 169 ================== \n",
            "0.20920214758396805\n",
            "================== 170 ================== \n",
            "0.20913971781745536\n",
            "================== 171 ================== \n",
            "0.20913971781745536\n",
            "================== 172 ================== \n",
            "0.20920214758396805\n",
            "================== 173 ================== \n",
            "0.20913971781745536\n",
            "================== 174 ================== \n",
            "0.20920214758396805\n",
            "================== 175 ================== \n",
            "0.20932700711699337\n",
            "================== 176 ================== \n",
            "0.20938943688350606\n",
            "================== 177 ================== \n",
            "0.20945186665001872\n",
            "================== 178 ================== \n",
            "0.20938943688350606\n",
            "================== 179 ================== \n",
            "0.20932700711699337\n",
            "================== 180 ================== \n",
            "0.20932700711699337\n",
            "================== 181 ================== \n",
            "0.2092645773504807\n",
            "================== 182 ================== \n",
            "0.20938943688350606\n",
            "================== 183 ================== \n",
            "0.20932700711699337\n",
            "================== 184 ================== \n",
            "0.2092645773504807\n",
            "================== 185 ================== \n",
            "0.20932700711699337\n",
            "================== 186 ================== \n",
            "0.20932700711699337\n",
            "================== 187 ================== \n",
            "0.20938943688350606\n",
            "================== 188 ================== \n",
            "0.20945186665001872\n",
            "================== 189 ================== \n",
            "0.20932700711699337\n",
            "================== 190 ================== \n",
            "0.20932700711699337\n",
            "================== 191 ================== \n",
            "0.20932700711699337\n",
            "================== 192 ================== \n",
            "0.20938943688350606\n",
            "================== 193 ================== \n",
            "0.2092645773504807\n",
            "================== 194 ================== \n",
            "0.20938943688350606\n",
            "================== 195 ================== \n",
            "0.20932700711699337\n",
            "================== 196 ================== \n",
            "0.20932700711699337\n",
            "================== 197 ================== \n",
            "0.20932700711699337\n",
            "================== 198 ================== \n",
            "0.20938943688350606\n",
            "================== 199 ================== \n",
            "0.20945186665001872\n"
          ],
          "name": "stdout"
        }
      ]
    },
    {
      "cell_type": "code",
      "metadata": {
        "colab": {
          "base_uri": "https://localhost:8080/"
        },
        "id": "4p3CoVl919DA",
        "outputId": "182c9e5e-547b-4e63-ddf9-e349506b6ad8"
      },
      "source": [
        "error.index(min(error))"
      ],
      "execution_count": null,
      "outputs": [
        {
          "output_type": "execute_result",
          "data": {
            "text/plain": [
              "22"
            ]
          },
          "metadata": {
            "tags": []
          },
          "execution_count": 61
        }
      ]
    },
    {
      "cell_type": "code",
      "metadata": {
        "colab": {
          "base_uri": "https://localhost:8080/",
          "height": 422
        },
        "id": "N8gwBpt819Al",
        "outputId": "89b28dd9-e282-4f6c-a89e-3870cf27cf60"
      },
      "source": [
        "plt.figure(figsize=(12, 6))\n",
        "plt.plot(range(1, 200), error, color='red', linestyle='dashed', marker='o',\n",
        "         markerfacecolor='blue', markersize=10)\n",
        "plt.title('Error Rate K Value')\n",
        "plt.xlabel('K Value')\n",
        "plt.ylabel('Mean Error')"
      ],
      "execution_count": null,
      "outputs": [
        {
          "output_type": "execute_result",
          "data": {
            "text/plain": [
              "Text(0, 0.5, 'Mean Error')"
            ]
          },
          "metadata": {
            "tags": []
          },
          "execution_count": 62
        },
        {
          "output_type": "display_data",
          "data": {
            "image/png": "[encoded data removed]",
            "text/plain": [
              "<Figure size 864x432 with 1 Axes>"
            ]
          },
          "metadata": {
            "tags": [],
            "needs_background": "light"
          }
        }
      ]
    },
    {
      "cell_type": "markdown",
      "metadata": {
        "id": "VJ7lxeX_2NyM"
      },
      "source": [
        "> ## Decision Tree"
      ]
    },
    {
      "cell_type": "code",
      "metadata": {
        "colab": {
          "base_uri": "https://localhost:8080/"
        },
        "id": "KZBwPns7184q",
        "outputId": "81968d2e-2302-44b3-b781-f3005fcea883"
      },
      "source": [
        "classifier2 = DecisionTreeClassifier(criterion='entropy')\n",
        "classifier2.fit(X_train, y_train)"
      ],
      "execution_count": null,
      "outputs": [
        {
          "output_type": "execute_result",
          "data": {
            "text/plain": [
              "DecisionTreeClassifier(ccp_alpha=0.0, class_weight=None, criterion='entropy',\n",
              "                       max_depth=None, max_features=None, max_leaf_nodes=None,\n",
              "                       min_impurity_decrease=0.0, min_impurity_split=None,\n",
              "                       min_samples_leaf=1, min_samples_split=2,\n",
              "                       min_weight_fraction_leaf=0.0, presort='deprecated',\n",
              "                       random_state=None, splitter='best')"
            ]
          },
          "metadata": {
            "tags": []
          },
          "execution_count": 63
        }
      ]
    },
    {
      "cell_type": "code",
      "metadata": {
        "id": "_OQhKE-l2tmI"
      },
      "source": [
        "y_pred = classifier2.predict(X_test)\n",
        "# y_pred = classifier2.predict(X)"
      ],
      "execution_count": null,
      "outputs": []
    },
    {
      "cell_type": "code",
      "metadata": {
        "colab": {
          "base_uri": "https://localhost:8080/"
        },
        "id": "q1YTauJM2tjj",
        "outputId": "56550a32-8ea5-41e8-a458-e194b6305db7"
      },
      "source": [
        "print(confusion_matrix(y_test, y_pred))\n",
        "print(classification_report(y_test, y_pred))\n",
        "\n",
        "# print(confusion_matrix(y, y_pred))\n",
        "# print(classification_report(y, y_pred))"
      ],
      "execution_count": null,
      "outputs": [
        {
          "output_type": "stream",
          "text": [
            "[[  213     0     9   252     5   523]\n",
            " [    0     2     0     0     3     0]\n",
            " [    2     0   112     2     4     0]\n",
            " [  291     0     3  1489     2  1951]\n",
            " [    3     3     3     0   121     2]\n",
            " [  157     1     0   606     0 10259]]\n",
            "              precision    recall  f1-score   support\n",
            "\n",
            "         0.0       0.32      0.21      0.26      1002\n",
            "         1.0       0.33      0.40      0.36         5\n",
            "         2.0       0.88      0.93      0.91       120\n",
            "         3.0       0.63      0.40      0.49      3736\n",
            "         4.0       0.90      0.92      0.91       132\n",
            "         5.0       0.81      0.93      0.86     11023\n",
            "\n",
            "    accuracy                           0.76     16018\n",
            "   macro avg       0.65      0.63      0.63     16018\n",
            "weighted avg       0.74      0.76      0.74     16018\n",
            "\n"
          ],
          "name": "stdout"
        }
      ]
    },
    {
      "cell_type": "markdown",
      "metadata": {
        "id": "ygtfewg73K4n"
      },
      "source": [
        "> ## MLP"
      ]
    },
    {
      "cell_type": "code",
      "metadata": {
        "id": "rZTv-l4x3BFl"
      },
      "source": [
        "clf = MLPClassifier(random_state=1, max_iter=300).fit(X_train, y_train)"
      ],
      "execution_count": null,
      "outputs": []
    },
    {
      "cell_type": "code",
      "metadata": {
        "colab": {
          "base_uri": "https://localhost:8080/"
        },
        "id": "tASsr9ww3BDv",
        "outputId": "dec39136-4abb-406b-ad52-ce6647719883"
      },
      "source": [
        "clf.predict_proba(X_test)"
      ],
      "execution_count": null,
      "outputs": [
        {
          "output_type": "execute_result",
          "data": {
            "text/plain": [
              "array([[1.03443876e-02, 1.19806569e-06, 4.18955454e-04, 1.70589717e-01,\n",
              "        1.08343506e-03, 8.17562307e-01],\n",
              "       [1.03596844e-02, 3.55579057e-08, 4.15016964e-04, 1.68447697e-01,\n",
              "        1.96954440e-03, 8.18808022e-01],\n",
              "       [1.79542234e-02, 7.84168964e-05, 1.31593602e-03, 1.21057415e-01,\n",
              "        1.51726057e-03, 8.58076748e-01],\n",
              "       ...,\n",
              "       [1.42290977e-02, 1.21259587e-06, 5.32406408e-04, 2.16563624e-01,\n",
              "        1.66769555e-03, 7.67005963e-01],\n",
              "       [5.81880219e-03, 7.79652904e-06, 2.37608724e-04, 8.61860851e-02,\n",
              "        3.11463932e-04, 9.07438244e-01],\n",
              "       [1.65163917e-02, 1.54483615e-05, 8.50991017e-04, 2.21603976e-01,\n",
              "        1.26768459e-03, 7.59745509e-01]])"
            ]
          },
          "metadata": {
            "tags": []
          },
          "execution_count": 67
        }
      ]
    },
    {
      "cell_type": "code",
      "metadata": {
        "id": "tjHvU6mm3BA1"
      },
      "source": [
        "y_pred = clf.predict(X_test)"
      ],
      "execution_count": null,
      "outputs": []
    },
    {
      "cell_type": "code",
      "metadata": {
        "colab": {
          "base_uri": "https://localhost:8080/"
        },
        "id": "r7LcJnly3A-L",
        "outputId": "f759652d-f7b8-46f0-dbd2-de6326c13e55"
      },
      "source": [
        "clf.score(X_test, y_test)"
      ],
      "execution_count": null,
      "outputs": [
        {
          "output_type": "execute_result",
          "data": {
            "text/plain": [
              "0.791734298913722"
            ]
          },
          "metadata": {
            "tags": []
          },
          "execution_count": 69
        }
      ]
    },
    {
      "cell_type": "code",
      "metadata": {
        "colab": {
          "base_uri": "https://localhost:8080/"
        },
        "id": "DBcTNu5lg15X",
        "outputId": "c92b3e83-17b3-4916-85e6-a131faa0a693"
      },
      "source": [
        "print(confusion_matrix(y_test, y_pred))\n",
        "print(classification_report(y_test, y_pred))"
      ],
      "execution_count": null,
      "outputs": [
        {
          "output_type": "stream",
          "text": [
            "[[   47     0    36   280     3   636]\n",
            " [    0     0     1     0     3     1]\n",
            " [    0     0   107     1    12     0]\n",
            " [    2     0    20  1497    15  2202]\n",
            " [    1     0    34    13    44    40]\n",
            " [    1     0     1    34     0 10987]]\n",
            "              precision    recall  f1-score   support\n",
            "\n",
            "         0.0       0.92      0.05      0.09      1002\n",
            "         1.0       0.00      0.00      0.00         5\n",
            "         2.0       0.54      0.89      0.67       120\n",
            "         3.0       0.82      0.40      0.54      3736\n",
            "         4.0       0.57      0.33      0.42       132\n",
            "         5.0       0.79      1.00      0.88     11023\n",
            "\n",
            "    accuracy                           0.79     16018\n",
            "   macro avg       0.61      0.44      0.43     16018\n",
            "weighted avg       0.80      0.79      0.75     16018\n",
            "\n"
          ],
          "name": "stdout"
        },
        {
          "output_type": "stream",
          "text": [
            "/usr/local/lib/python3.6/dist-packages/sklearn/metrics/_classification.py:1272: UndefinedMetricWarning: Precision and F-score are ill-defined and being set to 0.0 in labels with no predicted samples. Use `zero_division` parameter to control this behavior.\n",
            "  _warn_prf(average, modifier, msg_start, len(result))\n"
          ],
          "name": "stderr"
        }
      ]
    },
    {
      "cell_type": "markdown",
      "metadata": {
        "id": "R9xEwUdLoOZr"
      },
      "source": [
        "## Cross Validation"
      ]
    },
    {
      "cell_type": "code",
      "metadata": {
        "id": "JO0jE9G43Wp_",
        "colab": {
          "base_uri": "https://localhost:8080/"
        },
        "outputId": "1beb2542-1dad-4f6f-b6b1-f8678d50a881"
      },
      "source": [
        "knn_scores = cross_val_score(classifier, X, y, cv=10,verbose=True)\n",
        "mlp_scores = cross_val_score(clf, X, y, cv=10,verbose=True)\n",
        "dt_scores = cross_val_score(classifier2, X, y, cv=10,verbose=True)"
      ],
      "execution_count": null,
      "outputs": [
        {
          "output_type": "stream",
          "text": [
            "[Parallel(n_jobs=1)]: Using backend SequentialBackend with 1 concurrent workers.\n",
            "[Parallel(n_jobs=1)]: Done  10 out of  10 | elapsed:    3.4s finished\n",
            "[Parallel(n_jobs=1)]: Using backend SequentialBackend with 1 concurrent workers.\n",
            "[Parallel(n_jobs=1)]: Done  10 out of  10 | elapsed:  1.6min finished\n",
            "[Parallel(n_jobs=1)]: Using backend SequentialBackend with 1 concurrent workers.\n",
            "[Parallel(n_jobs=1)]: Done  10 out of  10 | elapsed:    0.9s finished\n"
          ],
          "name": "stderr"
        }
      ]
    },
    {
      "cell_type": "code",
      "metadata": {
        "id": "RSHTBqVc3WnY",
        "colab": {
          "base_uri": "https://localhost:8080/"
        },
        "outputId": "9a03612e-f21f-4c18-fcb8-db71b11f4a3b"
      },
      "source": [
        "sum(knn_scores)/10"
      ],
      "execution_count": null,
      "outputs": [
        {
          "output_type": "execute_result",
          "data": {
            "text/plain": [
              "0.6067567077117638"
            ]
          },
          "metadata": {
            "tags": []
          },
          "execution_count": 72
        }
      ]
    },
    {
      "cell_type": "code",
      "metadata": {
        "colab": {
          "base_uri": "https://localhost:8080/"
        },
        "id": "EAYctJXZrMbo",
        "outputId": "d7f4a386-b28f-4542-ff12-5fd9af9da6b2"
      },
      "source": [
        "sum(mlp_scores)/10"
      ],
      "execution_count": null,
      "outputs": [
        {
          "output_type": "execute_result",
          "data": {
            "text/plain": [
              "0.7896380149189137"
            ]
          },
          "metadata": {
            "tags": []
          },
          "execution_count": 73
        }
      ]
    },
    {
      "cell_type": "code",
      "metadata": {
        "colab": {
          "base_uri": "https://localhost:8080/"
        },
        "id": "EGa6GgFZrNJu",
        "outputId": "51766abe-5360-4ad3-8dca-70988aee8cdf"
      },
      "source": [
        "sum(dt_scores)/10"
      ],
      "execution_count": null,
      "outputs": [
        {
          "output_type": "execute_result",
          "data": {
            "text/plain": [
              "0.4343685029078287"
            ]
          },
          "metadata": {
            "tags": []
          },
          "execution_count": 74
        }
      ]
    },
    {
      "cell_type": "markdown",
      "metadata": {
        "id": "ZMY0TwGX3bZK"
      },
      "source": [
        "> ## *italicized text*"
      ]
    },
    {
      "cell_type": "code",
      "metadata": {
        "id": "oLMZq_x72td5"
      },
      "source": [
        "without_outcome = without_outcome.drop(without_outcome.loc[without_outcome.age.isnull()==True].index)\n",
        "without_outcome = without_outcome.drop(without_outcome.loc[without_outcome.country.isnull()==True].index)\n",
        "without_outcome = without_outcome.drop(without_outcome.loc[without_outcome.date_onset_symptoms.isnull()==True].index)\n",
        "without_outcome = without_outcome.drop(without_outcome.loc[without_outcome.chronic_disease_binary.isnull()==True].index)\n",
        "without_outcome = without_outcome.drop(without_outcome.loc[without_outcome.travel_history_binary.isnull()==True].index)\n",
        "\n",
        "# y_pred = classifier.predict(without_outcome)\n",
        "y_pred = clf.predict(without_outcome)\n",
        "df.loc[without_outcome.index,'outcome']=y_pred"
      ],
      "execution_count": null,
      "outputs": []
    },
    {
      "cell_type": "code",
      "metadata": {
        "colab": {
          "base_uri": "https://localhost:8080/",
          "height": 422
        },
        "id": "b5RWLv21273V",
        "outputId": "56b80c2a-71cf-4a43-87bc-945ba957732e"
      },
      "source": [
        "sns.heatmap(df.isnull(), cbar=False)"
      ],
      "execution_count": null,
      "outputs": [
        {
          "output_type": "execute_result",
          "data": {
            "text/plain": [
              "<matplotlib.axes._subplots.AxesSubplot at 0x7f24e31f9748>"
            ]
          },
          "metadata": {
            "tags": []
          },
          "execution_count": 76
        },
        {
          "output_type": "display_data",
          "data": {
            "image/png": "[encoded data removed]",
            "text/plain": [
              "<Figure size 432x288 with 1 Axes>"
            ]
          },
          "metadata": {
            "tags": [],
            "needs_background": "light"
          }
        }
      ]
    },
    {
      "cell_type": "markdown",
      "metadata": {
        "id": "u2yyfO8mb5Uo"
      },
      "source": [
        "# Association Rule Mining\n",
        "\n"
      ]
    },
    {
      "cell_type": "markdown",
      "metadata": {
        "id": "axX5oslX3rn9"
      },
      "source": [
        ">  ## Cleanning for Association Rules"
      ]
    },
    {
      "cell_type": "code",
      "metadata": {
        "id": "a2FDpSXo3nJm"
      },
      "source": [
        "a=copy.deepcopy(df)\n",
        "# a = a.drop(\"date_onset_symptoms\",axis=1)\n",
        "# a = a.drop(\"date_confirmation\",axis=1)\n",
        "a = a.drop(\"symptoms_dbscan\",axis=1)\n",
        "# a = a.drop(\"sex\",axis=1)\n",
        "# a = a.drop(\"diff_date_onset_confirmation\",axis=1)\n",
        "\n",
        "# a=a.drop_duplicates()"
      ],
      "execution_count": null,
      "outputs": []
    },
    {
      "cell_type": "code",
      "metadata": {
        "colab": {
          "base_uri": "https://localhost:8080/",
          "height": 422
        },
        "id": "ZYQvb47cb_Q3",
        "outputId": "d93222ab-1cfc-4643-8b29-6618a65151e4"
      },
      "source": [
        "sns.heatmap(a.isnull(), cbar=False)"
      ],
      "execution_count": null,
      "outputs": [
        {
          "output_type": "execute_result",
          "data": {
            "text/plain": [
              "<matplotlib.axes._subplots.AxesSubplot at 0x7f24e32e76d8>"
            ]
          },
          "metadata": {
            "tags": []
          },
          "execution_count": 78
        },
        {
          "output_type": "display_data",
          "data": {
            "image/png": "[encoded data removed]",
            "text/plain": [
              "<Figure size 432x288 with 1 Axes>"
            ]
          },
          "metadata": {
            "tags": [],
            "needs_background": "light"
          }
        }
      ]
    },
    {
      "cell_type": "markdown",
      "metadata": {
        "id": "WRkkQGqe399s"
      },
      "source": [
        "> ## One Hot Encoding"
      ]
    },
    {
      "cell_type": "code",
      "metadata": {
        "id": "Jghv813tkOlF"
      },
      "source": [
        "my_copy=copy.deepcopy(a)\n",
        "\n",
        "my_copy['age']=my_copy['age'].apply(lambda x: str(x) + \"_age\")\n",
        "my_copy['sex']=my_copy['sex'].apply(lambda x: str(x) + \"_sex\")\n",
        "my_copy['country']=my_copy['country'].apply(lambda x: str(x) + \"_country\")\n",
        "# my_copy['province']=my_copy['province'].apply(lambda x: str(x) + \"_province\")\n",
        "my_copy['date_confirmation']=my_copy['date_confirmation'].apply(lambda x: str(x) + \"_date_confi\")\n",
        "my_copy['chronic_disease_binary']=my_copy['chronic_disease_binary'].apply(lambda x: str(x) + \"_chronic_disease\")\n",
        "my_copy['outcome']=my_copy['outcome'].apply(lambda x: str(x) + \"_outcome\")\n",
        "my_copy['travel_history_binary']=my_copy['travel_history_binary'].apply(lambda x: str(x) + \"_travel\")\n",
        "# my_copy['symptoms_dbscan']=my_copy['symptoms_dbscan'].apply(lambda x: str(x) + \"_symptoms_dbscan\")\n",
        "my_copy['date_onset_symptoms']=my_copy['date_onset_symptoms'].apply(lambda x: str(x) + \"_date_onset\")\n",
        "my_copy['diff_date_onset_confirmation']=my_copy['diff_date_onset_confirmation'].apply(lambda x: str(x) + \"diff_date\")\n",
        "\n",
        "my_copy=my_copy.values.tolist()\n",
        "\n",
        "te = TransactionEncoder()\n",
        "te_ary = te.fit(my_copy).transform(my_copy)\n",
        "trans_df = pd.DataFrame(te_ary, columns=te.columns_)"
      ],
      "execution_count": null,
      "outputs": []
    },
    {
      "cell_type": "markdown",
      "metadata": {
        "id": "j8oaPKUg4D-n"
      },
      "source": [
        ">  ## FP-growth"
      ]
    },
    {
      "cell_type": "code",
      "metadata": {
        "colab": {
          "base_uri": "https://localhost:8080/"
        },
        "id": "kxB9ov6rkPTV",
        "outputId": "a3f3e19a-2a2b-44da-ec49-0278eaa5ebbe"
      },
      "source": [
        "fp_out=fpgrowth(trans_df, min_support=0.3, use_colnames=True)\n",
        "fp_out.loc[(fp_out.itemsets.astype(str).str.contains(\"nan_\", regex=False)==False )]"
      ],
      "execution_count": null,
      "outputs": [
        {
          "output_type": "execute_result",
          "data": {
            "text/html": [
              "<div>\n",
              "<style scoped>\n",
              "    .dataframe tbody tr th:only-of-type {\n",
              "        vertical-align: middle;\n",
              "    }\n",
              "\n",
              "    .dataframe tbody tr th {\n",
              "        vertical-align: top;\n",
              "    }\n",
              "\n",
              "    .dataframe thead th {\n",
              "        text-align: right;\n",
              "    }\n",
              "</style>\n",
              "<table border=\"1\" class=\"dataframe\">\n",
              "  <thead>\n",
              "    <tr style=\"text-align: right;\">\n",
              "      <th></th>\n",
              "      <th>support</th>\n",
              "      <th>itemsets</th>\n",
              "    </tr>\n",
              "  </thead>\n",
              "  <tbody>\n",
              "    <tr>\n",
              "      <th>0</th>\n",
              "      <td>0.999632</td>\n",
              "      <td>(False_chronic_disease)</td>\n",
              "    </tr>\n",
              "    <tr>\n",
              "      <th>1</th>\n",
              "      <td>0.600466</td>\n",
              "      <td>(6.0diff_date)</td>\n",
              "    </tr>\n",
              "    <tr>\n",
              "      <th>2</th>\n",
              "      <td>0.450140</td>\n",
              "      <td>(1.0_sex)</td>\n",
              "    </tr>\n",
              "    <tr>\n",
              "      <th>3</th>\n",
              "      <td>0.390456</td>\n",
              "      <td>(0.0_sex)</td>\n",
              "    </tr>\n",
              "    <tr>\n",
              "      <th>4</th>\n",
              "      <td>0.369904</td>\n",
              "      <td>(3.0_outcome)</td>\n",
              "    </tr>\n",
              "    <tr>\n",
              "      <th>5</th>\n",
              "      <td>0.440684</td>\n",
              "      <td>(5.0_outcome)</td>\n",
              "    </tr>\n",
              "    <tr>\n",
              "      <th>6</th>\n",
              "      <td>0.948231</td>\n",
              "      <td>(False_travel)</td>\n",
              "    </tr>\n",
              "    <tr>\n",
              "      <th>7</th>\n",
              "      <td>0.600203</td>\n",
              "      <td>(False_chronic_disease, 6.0diff_date)</td>\n",
              "    </tr>\n",
              "    <tr>\n",
              "      <th>8</th>\n",
              "      <td>0.565942</td>\n",
              "      <td>(False_travel, 6.0diff_date)</td>\n",
              "    </tr>\n",
              "    <tr>\n",
              "      <th>9</th>\n",
              "      <td>0.565872</td>\n",
              "      <td>(False_chronic_disease, False_travel, 6.0diff_...</td>\n",
              "    </tr>\n",
              "    <tr>\n",
              "      <th>10</th>\n",
              "      <td>0.449897</td>\n",
              "      <td>(False_chronic_disease, 1.0_sex)</td>\n",
              "    </tr>\n",
              "    <tr>\n",
              "      <th>11</th>\n",
              "      <td>0.431655</td>\n",
              "      <td>(1.0_sex, False_travel)</td>\n",
              "    </tr>\n",
              "    <tr>\n",
              "      <th>12</th>\n",
              "      <td>0.431601</td>\n",
              "      <td>(False_chronic_disease, 1.0_sex, False_travel)</td>\n",
              "    </tr>\n",
              "    <tr>\n",
              "      <th>13</th>\n",
              "      <td>0.390343</td>\n",
              "      <td>(0.0_sex, False_chronic_disease)</td>\n",
              "    </tr>\n",
              "    <tr>\n",
              "      <th>14</th>\n",
              "      <td>0.376427</td>\n",
              "      <td>(0.0_sex, False_travel)</td>\n",
              "    </tr>\n",
              "    <tr>\n",
              "      <th>15</th>\n",
              "      <td>0.376407</td>\n",
              "      <td>(0.0_sex, False_chronic_disease, False_travel)</td>\n",
              "    </tr>\n",
              "    <tr>\n",
              "      <th>16</th>\n",
              "      <td>0.369878</td>\n",
              "      <td>(False_chronic_disease, 3.0_outcome)</td>\n",
              "    </tr>\n",
              "    <tr>\n",
              "      <th>17</th>\n",
              "      <td>0.353702</td>\n",
              "      <td>(3.0_outcome, False_travel)</td>\n",
              "    </tr>\n",
              "    <tr>\n",
              "      <th>18</th>\n",
              "      <td>0.353702</td>\n",
              "      <td>(3.0_outcome, False_chronic_disease, False_tra...</td>\n",
              "    </tr>\n",
              "    <tr>\n",
              "      <th>19</th>\n",
              "      <td>0.440676</td>\n",
              "      <td>(False_chronic_disease, 5.0_outcome)</td>\n",
              "    </tr>\n",
              "    <tr>\n",
              "      <th>20</th>\n",
              "      <td>0.438996</td>\n",
              "      <td>(5.0_outcome, False_travel)</td>\n",
              "    </tr>\n",
              "    <tr>\n",
              "      <th>21</th>\n",
              "      <td>0.438992</td>\n",
              "      <td>(False_chronic_disease, 5.0_outcome, False_tra...</td>\n",
              "    </tr>\n",
              "    <tr>\n",
              "      <th>22</th>\n",
              "      <td>0.948151</td>\n",
              "      <td>(False_chronic_disease, False_travel)</td>\n",
              "    </tr>\n",
              "  </tbody>\n",
              "</table>\n",
              "</div>"
            ],
            "text/plain": [
              "     support                                           itemsets\n",
              "0   0.999632                            (False_chronic_disease)\n",
              "1   0.600466                                     (6.0diff_date)\n",
              "2   0.450140                                          (1.0_sex)\n",
              "3   0.390456                                          (0.0_sex)\n",
              "4   0.369904                                      (3.0_outcome)\n",
              "5   0.440684                                      (5.0_outcome)\n",
              "6   0.948231                                     (False_travel)\n",
              "7   0.600203              (False_chronic_disease, 6.0diff_date)\n",
              "8   0.565942                       (False_travel, 6.0diff_date)\n",
              "9   0.565872  (False_chronic_disease, False_travel, 6.0diff_...\n",
              "10  0.449897                   (False_chronic_disease, 1.0_sex)\n",
              "11  0.431655                            (1.0_sex, False_travel)\n",
              "12  0.431601     (False_chronic_disease, 1.0_sex, False_travel)\n",
              "13  0.390343                   (0.0_sex, False_chronic_disease)\n",
              "14  0.376427                            (0.0_sex, False_travel)\n",
              "15  0.376407     (0.0_sex, False_chronic_disease, False_travel)\n",
              "16  0.369878               (False_chronic_disease, 3.0_outcome)\n",
              "17  0.353702                        (3.0_outcome, False_travel)\n",
              "18  0.353702  (3.0_outcome, False_chronic_disease, False_tra...\n",
              "19  0.440676               (False_chronic_disease, 5.0_outcome)\n",
              "20  0.438996                        (5.0_outcome, False_travel)\n",
              "21  0.438992  (False_chronic_disease, 5.0_outcome, False_tra...\n",
              "22  0.948151              (False_chronic_disease, False_travel)"
            ]
          },
          "metadata": {
            "tags": []
          },
          "execution_count": 80
        }
      ]
    },
    {
      "cell_type": "code",
      "metadata": {
        "colab": {
          "base_uri": "https://localhost:8080/"
        },
        "id": "m0TKXaF14Hs1",
        "outputId": "e79d26ae-b102-4387-eb73-3d1d2c4afc96"
      },
      "source": [
        "p=association_rules(fp_out, metric=\"confidence\", min_threshold=0.4)\n",
        "p.loc[(p.antecedents.astype(str).str.contains(\"nan_\", regex=False)==False ) & (p.consequents.astype(str).str.contains(\"nan_\", regex=False)==False ) & (p.lift>=1 ),['antecedents','consequents','support','confidence','lift']]"
      ],
      "execution_count": null,
      "outputs": [
        {
          "output_type": "execute_result",
          "data": {
            "text/html": [
              "<div>\n",
              "<style scoped>\n",
              "    .dataframe tbody tr th:only-of-type {\n",
              "        vertical-align: middle;\n",
              "    }\n",
              "\n",
              "    .dataframe tbody tr th {\n",
              "        vertical-align: top;\n",
              "    }\n",
              "\n",
              "    .dataframe thead th {\n",
              "        text-align: right;\n",
              "    }\n",
              "</style>\n",
              "<table border=\"1\" class=\"dataframe\">\n",
              "  <thead>\n",
              "    <tr style=\"text-align: right;\">\n",
              "      <th></th>\n",
              "      <th>antecedents</th>\n",
              "      <th>consequents</th>\n",
              "      <th>support</th>\n",
              "      <th>confidence</th>\n",
              "      <th>lift</th>\n",
              "    </tr>\n",
              "  </thead>\n",
              "  <tbody>\n",
              "    <tr>\n",
              "      <th>6</th>\n",
              "      <td>(False_travel, 6.0diff_date)</td>\n",
              "      <td>(False_chronic_disease)</td>\n",
              "      <td>0.565872</td>\n",
              "      <td>0.999877</td>\n",
              "      <td>1.000245</td>\n",
              "    </tr>\n",
              "    <tr>\n",
              "      <th>7</th>\n",
              "      <td>(False_chronic_disease)</td>\n",
              "      <td>(False_travel, 6.0diff_date)</td>\n",
              "      <td>0.565872</td>\n",
              "      <td>0.566081</td>\n",
              "      <td>1.000245</td>\n",
              "    </tr>\n",
              "    <tr>\n",
              "      <th>12</th>\n",
              "      <td>(1.0_sex)</td>\n",
              "      <td>(False_travel)</td>\n",
              "      <td>0.431655</td>\n",
              "      <td>0.958934</td>\n",
              "      <td>1.011287</td>\n",
              "    </tr>\n",
              "    <tr>\n",
              "      <th>13</th>\n",
              "      <td>(False_travel)</td>\n",
              "      <td>(1.0_sex)</td>\n",
              "      <td>0.431655</td>\n",
              "      <td>0.455221</td>\n",
              "      <td>1.011287</td>\n",
              "    </tr>\n",
              "    <tr>\n",
              "      <th>14</th>\n",
              "      <td>(False_chronic_disease, 1.0_sex)</td>\n",
              "      <td>(False_travel)</td>\n",
              "      <td>0.431601</td>\n",
              "      <td>0.959332</td>\n",
              "      <td>1.011707</td>\n",
              "    </tr>\n",
              "    <tr>\n",
              "      <th>15</th>\n",
              "      <td>(False_chronic_disease, False_travel)</td>\n",
              "      <td>(1.0_sex)</td>\n",
              "      <td>0.431601</td>\n",
              "      <td>0.455203</td>\n",
              "      <td>1.011246</td>\n",
              "    </tr>\n",
              "    <tr>\n",
              "      <th>16</th>\n",
              "      <td>(1.0_sex, False_travel)</td>\n",
              "      <td>(False_chronic_disease)</td>\n",
              "      <td>0.431601</td>\n",
              "      <td>0.999875</td>\n",
              "      <td>1.000244</td>\n",
              "    </tr>\n",
              "    <tr>\n",
              "      <th>17</th>\n",
              "      <td>(False_chronic_disease)</td>\n",
              "      <td>(1.0_sex, False_travel)</td>\n",
              "      <td>0.431601</td>\n",
              "      <td>0.431760</td>\n",
              "      <td>1.000244</td>\n",
              "    </tr>\n",
              "    <tr>\n",
              "      <th>18</th>\n",
              "      <td>(1.0_sex)</td>\n",
              "      <td>(False_chronic_disease, False_travel)</td>\n",
              "      <td>0.431601</td>\n",
              "      <td>0.958814</td>\n",
              "      <td>1.011246</td>\n",
              "    </tr>\n",
              "    <tr>\n",
              "      <th>19</th>\n",
              "      <td>(False_travel)</td>\n",
              "      <td>(False_chronic_disease, 1.0_sex)</td>\n",
              "      <td>0.431601</td>\n",
              "      <td>0.455164</td>\n",
              "      <td>1.011707</td>\n",
              "    </tr>\n",
              "    <tr>\n",
              "      <th>20</th>\n",
              "      <td>(0.0_sex)</td>\n",
              "      <td>(False_chronic_disease)</td>\n",
              "      <td>0.390343</td>\n",
              "      <td>0.999709</td>\n",
              "      <td>1.000078</td>\n",
              "    </tr>\n",
              "    <tr>\n",
              "      <th>21</th>\n",
              "      <td>(0.0_sex)</td>\n",
              "      <td>(False_travel)</td>\n",
              "      <td>0.376427</td>\n",
              "      <td>0.964069</td>\n",
              "      <td>1.016703</td>\n",
              "    </tr>\n",
              "    <tr>\n",
              "      <th>22</th>\n",
              "      <td>(0.0_sex, False_chronic_disease)</td>\n",
              "      <td>(False_travel)</td>\n",
              "      <td>0.376407</td>\n",
              "      <td>0.964298</td>\n",
              "      <td>1.016945</td>\n",
              "    </tr>\n",
              "    <tr>\n",
              "      <th>23</th>\n",
              "      <td>(0.0_sex, False_travel)</td>\n",
              "      <td>(False_chronic_disease)</td>\n",
              "      <td>0.376407</td>\n",
              "      <td>0.999947</td>\n",
              "      <td>1.000316</td>\n",
              "    </tr>\n",
              "    <tr>\n",
              "      <th>24</th>\n",
              "      <td>(0.0_sex)</td>\n",
              "      <td>(False_chronic_disease, False_travel)</td>\n",
              "      <td>0.376407</td>\n",
              "      <td>0.964018</td>\n",
              "      <td>1.016735</td>\n",
              "    </tr>\n",
              "    <tr>\n",
              "      <th>25</th>\n",
              "      <td>(3.0_outcome)</td>\n",
              "      <td>(False_chronic_disease)</td>\n",
              "      <td>0.369878</td>\n",
              "      <td>0.999930</td>\n",
              "      <td>1.000298</td>\n",
              "    </tr>\n",
              "    <tr>\n",
              "      <th>26</th>\n",
              "      <td>(3.0_outcome)</td>\n",
              "      <td>(False_travel)</td>\n",
              "      <td>0.353702</td>\n",
              "      <td>0.956200</td>\n",
              "      <td>1.008404</td>\n",
              "    </tr>\n",
              "    <tr>\n",
              "      <th>27</th>\n",
              "      <td>(False_chronic_disease, 3.0_outcome)</td>\n",
              "      <td>(False_travel)</td>\n",
              "      <td>0.353702</td>\n",
              "      <td>0.956267</td>\n",
              "      <td>1.008475</td>\n",
              "    </tr>\n",
              "    <tr>\n",
              "      <th>28</th>\n",
              "      <td>(False_travel, 3.0_outcome)</td>\n",
              "      <td>(False_chronic_disease)</td>\n",
              "      <td>0.353702</td>\n",
              "      <td>1.000000</td>\n",
              "      <td>1.000368</td>\n",
              "    </tr>\n",
              "    <tr>\n",
              "      <th>29</th>\n",
              "      <td>(3.0_outcome)</td>\n",
              "      <td>(False_chronic_disease, False_travel)</td>\n",
              "      <td>0.353702</td>\n",
              "      <td>0.956200</td>\n",
              "      <td>1.008489</td>\n",
              "    </tr>\n",
              "    <tr>\n",
              "      <th>30</th>\n",
              "      <td>(False_chronic_disease)</td>\n",
              "      <td>(5.0_outcome)</td>\n",
              "      <td>0.440676</td>\n",
              "      <td>0.440839</td>\n",
              "      <td>1.000350</td>\n",
              "    </tr>\n",
              "    <tr>\n",
              "      <th>31</th>\n",
              "      <td>(5.0_outcome)</td>\n",
              "      <td>(False_chronic_disease)</td>\n",
              "      <td>0.440676</td>\n",
              "      <td>0.999982</td>\n",
              "      <td>1.000350</td>\n",
              "    </tr>\n",
              "    <tr>\n",
              "      <th>32</th>\n",
              "      <td>(5.0_outcome)</td>\n",
              "      <td>(False_travel)</td>\n",
              "      <td>0.438996</td>\n",
              "      <td>0.996169</td>\n",
              "      <td>1.050555</td>\n",
              "    </tr>\n",
              "    <tr>\n",
              "      <th>33</th>\n",
              "      <td>(False_travel)</td>\n",
              "      <td>(5.0_outcome)</td>\n",
              "      <td>0.438996</td>\n",
              "      <td>0.462963</td>\n",
              "      <td>1.050555</td>\n",
              "    </tr>\n",
              "    <tr>\n",
              "      <th>34</th>\n",
              "      <td>(False_chronic_disease, 5.0_outcome)</td>\n",
              "      <td>(False_travel)</td>\n",
              "      <td>0.438992</td>\n",
              "      <td>0.996177</td>\n",
              "      <td>1.050564</td>\n",
              "    </tr>\n",
              "    <tr>\n",
              "      <th>35</th>\n",
              "      <td>(False_chronic_disease, False_travel)</td>\n",
              "      <td>(5.0_outcome)</td>\n",
              "      <td>0.438992</td>\n",
              "      <td>0.462998</td>\n",
              "      <td>1.050634</td>\n",
              "    </tr>\n",
              "    <tr>\n",
              "      <th>36</th>\n",
              "      <td>(5.0_outcome, False_travel)</td>\n",
              "      <td>(False_chronic_disease)</td>\n",
              "      <td>0.438992</td>\n",
              "      <td>0.999991</td>\n",
              "      <td>1.000359</td>\n",
              "    </tr>\n",
              "    <tr>\n",
              "      <th>37</th>\n",
              "      <td>(False_chronic_disease)</td>\n",
              "      <td>(5.0_outcome, False_travel)</td>\n",
              "      <td>0.438992</td>\n",
              "      <td>0.439154</td>\n",
              "      <td>1.000359</td>\n",
              "    </tr>\n",
              "    <tr>\n",
              "      <th>38</th>\n",
              "      <td>(5.0_outcome)</td>\n",
              "      <td>(False_chronic_disease, False_travel)</td>\n",
              "      <td>0.438992</td>\n",
              "      <td>0.996159</td>\n",
              "      <td>1.050634</td>\n",
              "    </tr>\n",
              "    <tr>\n",
              "      <th>39</th>\n",
              "      <td>(False_travel)</td>\n",
              "      <td>(False_chronic_disease, 5.0_outcome)</td>\n",
              "      <td>0.438992</td>\n",
              "      <td>0.462959</td>\n",
              "      <td>1.050564</td>\n",
              "    </tr>\n",
              "    <tr>\n",
              "      <th>40</th>\n",
              "      <td>(False_chronic_disease)</td>\n",
              "      <td>(False_travel)</td>\n",
              "      <td>0.948151</td>\n",
              "      <td>0.948500</td>\n",
              "      <td>1.000284</td>\n",
              "    </tr>\n",
              "    <tr>\n",
              "      <th>41</th>\n",
              "      <td>(False_travel)</td>\n",
              "      <td>(False_chronic_disease)</td>\n",
              "      <td>0.948151</td>\n",
              "      <td>0.999916</td>\n",
              "      <td>1.000284</td>\n",
              "    </tr>\n",
              "  </tbody>\n",
              "</table>\n",
              "</div>"
            ],
            "text/plain": [
              "                              antecedents  ...      lift\n",
              "6            (False_travel, 6.0diff_date)  ...  1.000245\n",
              "7                 (False_chronic_disease)  ...  1.000245\n",
              "12                              (1.0_sex)  ...  1.011287\n",
              "13                         (False_travel)  ...  1.011287\n",
              "14       (False_chronic_disease, 1.0_sex)  ...  1.011707\n",
              "15  (False_chronic_disease, False_travel)  ...  1.011246\n",
              "16                (1.0_sex, False_travel)  ...  1.000244\n",
              "17                (False_chronic_disease)  ...  1.000244\n",
              "18                              (1.0_sex)  ...  1.011246\n",
              "19                         (False_travel)  ...  1.011707\n",
              "20                              (0.0_sex)  ...  1.000078\n",
              "21                              (0.0_sex)  ...  1.016703\n",
              "22       (0.0_sex, False_chronic_disease)  ...  1.016945\n",
              "23                (0.0_sex, False_travel)  ...  1.000316\n",
              "24                              (0.0_sex)  ...  1.016735\n",
              "25                          (3.0_outcome)  ...  1.000298\n",
              "26                          (3.0_outcome)  ...  1.008404\n",
              "27   (False_chronic_disease, 3.0_outcome)  ...  1.008475\n",
              "28            (False_travel, 3.0_outcome)  ...  1.000368\n",
              "29                          (3.0_outcome)  ...  1.008489\n",
              "30                (False_chronic_disease)  ...  1.000350\n",
              "31                          (5.0_outcome)  ...  1.000350\n",
              "32                          (5.0_outcome)  ...  1.050555\n",
              "33                         (False_travel)  ...  1.050555\n",
              "34   (False_chronic_disease, 5.0_outcome)  ...  1.050564\n",
              "35  (False_chronic_disease, False_travel)  ...  1.050634\n",
              "36            (5.0_outcome, False_travel)  ...  1.000359\n",
              "37                (False_chronic_disease)  ...  1.000359\n",
              "38                          (5.0_outcome)  ...  1.050634\n",
              "39                         (False_travel)  ...  1.050564\n",
              "40                (False_chronic_disease)  ...  1.000284\n",
              "41                         (False_travel)  ...  1.000284\n",
              "\n",
              "[32 rows x 5 columns]"
            ]
          },
          "metadata": {
            "tags": []
          },
          "execution_count": 81
        }
      ]
    },
    {
      "cell_type": "code",
      "metadata": {
        "id": "8_RuUk0y9q96",
        "colab": {
          "base_uri": "https://localhost:8080/"
        },
        "outputId": "9178de3c-d4ef-4dcd-b1c6-8a5cb1965048"
      },
      "source": [
        "p.loc[(p.antecedents.astype(str).str.contains(\"nan_\", regex=False)==False ) & (p.consequents.astype(str).str.contains(\"nan_\", regex=False)==False ) & (p.lift<=1 )]\n"
      ],
      "execution_count": null,
      "outputs": [
        {
          "output_type": "execute_result",
          "data": {
            "text/html": [
              "<div>\n",
              "<style scoped>\n",
              "    .dataframe tbody tr th:only-of-type {\n",
              "        vertical-align: middle;\n",
              "    }\n",
              "\n",
              "    .dataframe tbody tr th {\n",
              "        vertical-align: top;\n",
              "    }\n",
              "\n",
              "    .dataframe thead th {\n",
              "        text-align: right;\n",
              "    }\n",
              "</style>\n",
              "<table border=\"1\" class=\"dataframe\">\n",
              "  <thead>\n",
              "    <tr style=\"text-align: right;\">\n",
              "      <th></th>\n",
              "      <th>antecedents</th>\n",
              "      <th>consequents</th>\n",
              "      <th>antecedent support</th>\n",
              "      <th>consequent support</th>\n",
              "      <th>support</th>\n",
              "      <th>confidence</th>\n",
              "      <th>lift</th>\n",
              "      <th>leverage</th>\n",
              "      <th>conviction</th>\n",
              "    </tr>\n",
              "  </thead>\n",
              "  <tbody>\n",
              "    <tr>\n",
              "      <th>0</th>\n",
              "      <td>(False_chronic_disease)</td>\n",
              "      <td>(6.0diff_date)</td>\n",
              "      <td>0.999632</td>\n",
              "      <td>0.600466</td>\n",
              "      <td>0.600203</td>\n",
              "      <td>0.600425</td>\n",
              "      <td>0.999931</td>\n",
              "      <td>-0.000042</td>\n",
              "      <td>0.999896</td>\n",
              "    </tr>\n",
              "    <tr>\n",
              "      <th>1</th>\n",
              "      <td>(6.0diff_date)</td>\n",
              "      <td>(False_chronic_disease)</td>\n",
              "      <td>0.600466</td>\n",
              "      <td>0.999632</td>\n",
              "      <td>0.600203</td>\n",
              "      <td>0.999562</td>\n",
              "      <td>0.999931</td>\n",
              "      <td>-0.000042</td>\n",
              "      <td>0.841563</td>\n",
              "    </tr>\n",
              "    <tr>\n",
              "      <th>2</th>\n",
              "      <td>(False_travel)</td>\n",
              "      <td>(6.0diff_date)</td>\n",
              "      <td>0.948231</td>\n",
              "      <td>0.600466</td>\n",
              "      <td>0.565942</td>\n",
              "      <td>0.596840</td>\n",
              "      <td>0.993961</td>\n",
              "      <td>-0.003438</td>\n",
              "      <td>0.991006</td>\n",
              "    </tr>\n",
              "    <tr>\n",
              "      <th>3</th>\n",
              "      <td>(6.0diff_date)</td>\n",
              "      <td>(False_travel)</td>\n",
              "      <td>0.600466</td>\n",
              "      <td>0.948231</td>\n",
              "      <td>0.565942</td>\n",
              "      <td>0.942504</td>\n",
              "      <td>0.993961</td>\n",
              "      <td>-0.003438</td>\n",
              "      <td>0.900405</td>\n",
              "    </tr>\n",
              "    <tr>\n",
              "      <th>4</th>\n",
              "      <td>(False_chronic_disease, False_travel)</td>\n",
              "      <td>(6.0diff_date)</td>\n",
              "      <td>0.948151</td>\n",
              "      <td>0.600466</td>\n",
              "      <td>0.565872</td>\n",
              "      <td>0.596817</td>\n",
              "      <td>0.993922</td>\n",
              "      <td>-0.003460</td>\n",
              "      <td>0.990948</td>\n",
              "    </tr>\n",
              "    <tr>\n",
              "      <th>5</th>\n",
              "      <td>(False_chronic_disease, 6.0diff_date)</td>\n",
              "      <td>(False_travel)</td>\n",
              "      <td>0.600203</td>\n",
              "      <td>0.948231</td>\n",
              "      <td>0.565872</td>\n",
              "      <td>0.942801</td>\n",
              "      <td>0.994274</td>\n",
              "      <td>-0.003259</td>\n",
              "      <td>0.905074</td>\n",
              "    </tr>\n",
              "    <tr>\n",
              "      <th>8</th>\n",
              "      <td>(False_travel)</td>\n",
              "      <td>(False_chronic_disease, 6.0diff_date)</td>\n",
              "      <td>0.948231</td>\n",
              "      <td>0.600203</td>\n",
              "      <td>0.565872</td>\n",
              "      <td>0.596767</td>\n",
              "      <td>0.994274</td>\n",
              "      <td>-0.003259</td>\n",
              "      <td>0.991477</td>\n",
              "    </tr>\n",
              "    <tr>\n",
              "      <th>9</th>\n",
              "      <td>(6.0diff_date)</td>\n",
              "      <td>(False_chronic_disease, False_travel)</td>\n",
              "      <td>0.600466</td>\n",
              "      <td>0.948151</td>\n",
              "      <td>0.565872</td>\n",
              "      <td>0.942388</td>\n",
              "      <td>0.993922</td>\n",
              "      <td>-0.003460</td>\n",
              "      <td>0.899974</td>\n",
              "    </tr>\n",
              "    <tr>\n",
              "      <th>10</th>\n",
              "      <td>(False_chronic_disease)</td>\n",
              "      <td>(1.0_sex)</td>\n",
              "      <td>0.999632</td>\n",
              "      <td>0.450140</td>\n",
              "      <td>0.449897</td>\n",
              "      <td>0.450063</td>\n",
              "      <td>0.999829</td>\n",
              "      <td>-0.000077</td>\n",
              "      <td>0.999860</td>\n",
              "    </tr>\n",
              "    <tr>\n",
              "      <th>11</th>\n",
              "      <td>(1.0_sex)</td>\n",
              "      <td>(False_chronic_disease)</td>\n",
              "      <td>0.450140</td>\n",
              "      <td>0.999632</td>\n",
              "      <td>0.449897</td>\n",
              "      <td>0.999460</td>\n",
              "      <td>0.999829</td>\n",
              "      <td>-0.000077</td>\n",
              "      <td>0.682590</td>\n",
              "    </tr>\n",
              "  </tbody>\n",
              "</table>\n",
              "</div>"
            ],
            "text/plain": [
              "                              antecedents  ... conviction\n",
              "0                 (False_chronic_disease)  ...   0.999896\n",
              "1                          (6.0diff_date)  ...   0.841563\n",
              "2                          (False_travel)  ...   0.991006\n",
              "3                          (6.0diff_date)  ...   0.900405\n",
              "4   (False_chronic_disease, False_travel)  ...   0.990948\n",
              "5   (False_chronic_disease, 6.0diff_date)  ...   0.905074\n",
              "8                          (False_travel)  ...   0.991477\n",
              "9                          (6.0diff_date)  ...   0.899974\n",
              "10                (False_chronic_disease)  ...   0.999860\n",
              "11                              (1.0_sex)  ...   0.682590\n",
              "\n",
              "[10 rows x 9 columns]"
            ]
          },
          "metadata": {
            "tags": []
          },
          "execution_count": 82
        }
      ]
    }
  ]
}